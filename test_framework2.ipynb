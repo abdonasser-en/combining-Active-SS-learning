{
 "cells": [
  {
   "cell_type": "code",
   "execution_count": 1,
   "metadata": {},
   "outputs": [
    {
     "name": "stderr",
     "output_type": "stream",
     "text": [
      "/home/nasserali/anaconda3/lib/python3.10/site-packages/tqdm/auto.py:21: TqdmWarning: IProgress not found. Please update jupyter and ipywidgets. See https://ipywidgets.readthedocs.io/en/stable/user_install.html\n",
      "  from .autonotebook import tqdm as notebook_tqdm\n"
     ]
    }
   ],
   "source": [
    "import numpy as np\n",
    "import torch\n",
    "from preprocess.dataset import get_MNIST,get_dataset,get_handler\n",
    "from models.model import Model\n",
    "from al_methods.least_confidence import LeastConfidence\n",
    "from al_methods.entropy_sampling import EntropySampling\n",
    "from al_methods.batch_BALD import BatchBALD\n",
    "from al_methods.core_set import CoreSet\n",
    "from ssl_methods.semi_fixmatch import fixmatch\n",
    "from ssl_methods.semi_flexmatch import flexmatch\n",
    "from ssl_methods.semi_pseudolabel import pseudolabel\n",
    "from sklearn.metrics import cohen_kappa_score as am_capa\n",
    "import models\n",
    "from torchvision import transforms\n",
    "from framework.framework2 import Framework2\n",
    "import torch.nn as nn\n",
    "import time\n",
    "from torch.utils.data import DataLoader\n",
    "from scipy.spatial.distance import jensenshannon\n",
    "import al_methods\n",
    "import os\n",
    "import seaborn as sns \n",
    "import matplotlib\n",
    "# matplotlib.use('TkAgg')\n",
    "import matplotlib.pyplot as plt\n",
    "sns.set_theme()"
   ]
  },
  {
   "cell_type": "markdown",
   "metadata": {},
   "source": [
    "### Data Configuration"
   ]
  },
  {
   "cell_type": "code",
   "execution_count": 2,
   "metadata": {},
   "outputs": [],
   "source": [
    "args_pool = {'mnist':\n",
    "                { \n",
    "                 'n_class':10,\n",
    "                 'channels':1,\n",
    "                 'size': 28,\n",
    "                 'transform_tr': transforms.Compose([\n",
    "                                transforms.RandomHorizontalFlip(),\n",
    "                                transforms.ToTensor(), \n",
    "                                transforms.Normalize((0.1307,), (0.3081,))]),\n",
    "                 'transform_te': transforms.Compose([transforms.ToTensor(), \n",
    "                                transforms.Normalize((0.1307,), (0.3081,))]),\n",
    "                 'loader_tr_args':{'batch_size': 128, 'num_workers': 8},\n",
    "                 'loader_te_args':{'batch_size': 1024, 'num_workers': 8},\n",
    "                 'normalize':{'mean': (0.1307,), 'std': (0.3081,)},\n",
    "                },\n",
    "\n",
    "            'svhn':\n",
    "                {\n",
    "                 'n_class':10,\n",
    "                'channels':3,\n",
    "                'size': 32,\n",
    "                'transform_tr': transforms.Compose([ \n",
    "                                    transforms.RandomCrop(size = 32, padding=4),\n",
    "                                    transforms.RandomHorizontalFlip(),\n",
    "                                    transforms.ToTensor(),\n",
    "                                    transforms.Normalize((0.4377, 0.4438, 0.4728), (0.1980, 0.2010, 0.1970))]),\n",
    "                 'transform_te': transforms.Compose([transforms.ToTensor(), \n",
    "                                    transforms.Normalize((0.4377, 0.4438, 0.4728), (0.1980, 0.2010, 0.1970))]),\n",
    "                 'loader_tr_args':{'batch_size': 128, 'num_workers': 8},\n",
    "                 'loader_te_args':{'batch_size': 1024, 'num_workers': 8},\n",
    "                 'normalize':{'mean': (0.4377, 0.4438, 0.4728), 'std': (0.1980, 0.2010, 0.1970)},\n",
    "                },\n",
    "            'cifar10':\n",
    "                {\n",
    "                 'n_class':10,\n",
    "                 'channels':3,\n",
    "                 'size': 32,\n",
    "                 'transform_tr': transforms.Compose([\n",
    "                                    transforms.RandomCrop(size = 32, padding=4),\n",
    "                                    transforms.RandomHorizontalFlip(),\n",
    "                                    transforms.ToTensor(), \n",
    "                                    transforms.Normalize((0.4914, 0.4822, 0.4465), (0.2470, 0.2435, 0.2616))]),\n",
    "                 'transform_te': transforms.Compose([transforms.ToTensor(), \n",
    "                                    transforms.Normalize((0.4914, 0.4822, 0.4465), (0.2470, 0.2435, 0.2616))]),\n",
    "                 'loader_tr_args':{'batch_size': 256, 'num_workers': 8},\n",
    "                 'loader_te_args':{'batch_size': 512, 'num_workers': 8},\n",
    "                 'normalize':{'mean': (0.4914, 0.4822, 0.4465), 'std': (0.2470, 0.2435, 0.2616)},\n",
    "                 },\n",
    "\n",
    "\n",
    "            'cifar100': \n",
    "               {\n",
    "                'n_class':100,\n",
    "                'channels':3,\n",
    "                'size': 32,\n",
    "                'transform_tr': transforms.Compose([\n",
    "                                transforms.RandomCrop(size = 32, padding=4),\n",
    "                                transforms.RandomHorizontalFlip(),\n",
    "                                transforms.ToTensor(), \n",
    "                                transforms.Normalize((0.5071, 0.4867, 0.4408), (0.2675, 0.2565, 0.2761))]),\n",
    "                'transform_te': transforms.Compose([transforms.ToTensor(), \n",
    "                                transforms.Normalize((0.5071, 0.4867, 0.4408), (0.2675, 0.2565, 0.2761))]),\n",
    "                'loader_tr_args':{'batch_size': 2048, 'num_workers': 4},\n",
    "                'loader_te_args':{'batch_size': 512, 'num_workers': 8},\n",
    "                'normalize':{'mean': (0.5071, 0.4867, 0.4408), 'std': (0.2675, 0.2565, 0.2761)},\n",
    "                }\n",
    "        }"
   ]
  },
  {
   "cell_type": "markdown",
   "metadata": {},
   "source": [
    "### Dataset"
   ]
  },
  {
   "cell_type": "code",
   "execution_count": 3,
   "metadata": {},
   "outputs": [],
   "source": [
    "# in the main \n",
    "X_tr, Y_tr, X_te, Y_te = get_dataset(\"Mnist\", \"./datasets\")"
   ]
  },
  {
   "cell_type": "code",
   "execution_count": 4,
   "metadata": {},
   "outputs": [],
   "source": [
    "# in the main \n",
    "if type(X_tr) is list:\n",
    "    X_tr = np.array(X_tr)\n",
    "    Y_tr = torch.tensor(np.array(Y_tr))\n",
    "    X_te = np.array(X_te)\n",
    "    Y_te = torch.tensor(np.array(Y_te))\n",
    "\n",
    "if type(X_tr[0]) is not np.ndarray:\n",
    "    X_tr = X_tr.numpy()\n",
    "    X_te = X_te.numpy()"
   ]
  },
  {
   "cell_type": "code",
   "execution_count": 5,
   "metadata": {},
   "outputs": [
    {
     "name": "stdout",
     "output_type": "stream",
     "text": [
      "begin with :  600  Number of round 5  How many to query 600\n"
     ]
    }
   ],
   "source": [
    "# in the main\n",
    "n_pool = len(Y_tr)\n",
    "n_test = len(Y_te)\n",
    "#in the main\n",
    "handler = get_handler(\"mnist\")\n",
    "# main or framewrok to see\n",
    "nEnd=6 # total number to query \n",
    "nQuery=1 # nombre of points to query in batch \n",
    "nStart=1 # nbre of points to start\n",
    "NUM_INIT_LB = int(nStart*n_pool/100)\n",
    "NUM_QUERY = int(nQuery*n_pool/100) if nStart!= 100 else 0\n",
    "NUM_ROUND = int((int(nEnd*n_pool/100) - NUM_INIT_LB)/ NUM_QUERY) if nStart!= 100 else 0\n",
    "if NUM_QUERY != 0:\n",
    "    if (int(nEnd*n_pool/100) - NUM_INIT_LB)% NUM_QUERY != 0:\n",
    "        NUM_ROUND += 1\n",
    "print(\"begin with : \",NUM_INIT_LB,\" Number of round\",NUM_ROUND,\" How many to query\",NUM_QUERY)\n"
   ]
  },
  {
   "cell_type": "code",
   "execution_count": 6,
   "metadata": {},
   "outputs": [
    {
     "data": {
      "text/plain": [
       "array([False, False, False, ..., False, False, False])"
      ]
     },
     "execution_count": 6,
     "metadata": {},
     "output_type": "execute_result"
    }
   ],
   "source": [
    "# in the main file\n",
    "idxs_lb = np.zeros(n_pool, dtype=bool)\n",
    "idxs_lb\n",
    "# in the main file \n",
    "idxs_tmp = np.arange(n_pool)\n",
    "idxs_tmp\n",
    "np.random.shuffle(idxs_tmp)\n",
    "idxs_tmp\n",
    "# in the main file\n",
    "idxs_lb[idxs_tmp[:NUM_INIT_LB]] = True\n",
    "idxs_lb"
   ]
  },
  {
   "cell_type": "markdown",
   "metadata": {},
   "source": [
    "### Args"
   ]
  },
  {
   "cell_type": "code",
   "execution_count": 7,
   "metadata": {},
   "outputs": [],
   "source": [
    "class Args:\n",
    "    def __init__(self,n_class,img_size,channels,transform_tr,transform_te,loader_tr_args,loader_te_args,normalize):\n",
    "        self.n_class=n_class\n",
    "        self.img_size=img_size\n",
    "        self.channels=channels\n",
    "        self.transform_tr=transform_tr\n",
    "        self.transform_te=transform_te\n",
    "        self.loader_tr_args=loader_tr_args\n",
    "        self.loader_te_args=loader_te_args\n",
    "        self.normalize=normalize\n",
    "        self.dataset='mnist'\n",
    "        self.save_path='./save'\n",
    "        self.model='ResNet50'\n",
    "        self.lr=0.1\n",
    "        self.schedule = [20, 40]\n",
    "        self.momentum=0.9\n",
    "        self.gammas=[0.1,0.1]\n",
    "        self.framework='framwork1'\n",
    "        self.optimizer='SGD'\n",
    "        self.save_model=False\n",
    "        self.ALstrat='LeastConfidence'\n",
    "        self.SSLstrat='fixmatch'\n",
    "        self.n_epoch=10"
   ]
  },
  {
   "cell_type": "code",
   "execution_count": 8,
   "metadata": {},
   "outputs": [],
   "source": [
    "dataset_args = args_pool[\"mnist\"]\n",
    "n_class = dataset_args['n_class']\n",
    "img_size = dataset_args['size']\n",
    "channels = dataset_args['channels']\n",
    "transform_tr = dataset_args['transform_tr']\n",
    "transform_te = dataset_args['transform_te']\n",
    "loader_tr_args = dataset_args['loader_tr_args']\n",
    "loader_te_args = dataset_args['loader_te_args']\n",
    "normalize = dataset_args['normalize']"
   ]
  },
  {
   "cell_type": "code",
   "execution_count": 9,
   "metadata": {},
   "outputs": [],
   "source": [
    "args=Args(n_class,img_size,channels,transform_tr,transform_te,loader_tr_args,loader_te_args,normalize)"
   ]
  },
  {
   "cell_type": "markdown",
   "metadata": {},
   "source": [
    "## Models"
   ]
  },
  {
   "cell_type": "code",
   "execution_count": 10,
   "metadata": {},
   "outputs": [],
   "source": [
    "model=models.__dict__[\"ResNet50\"](n_class=args_pool['mnist']['n_class'])"
   ]
  },
  {
   "cell_type": "code",
   "execution_count": 11,
   "metadata": {},
   "outputs": [],
   "source": [
    "model.feature_extractor.conv1=torch.nn.Conv2d(args_pool['mnist']['channels'],16,kernel_size=3,stride=1,padding=1,bias=False)\n",
    "model.discriminator.dis_fc2=torch.nn.Linear(in_features=50,out_features=args_pool['mnist']['n_class'],bias=True)"
   ]
  },
  {
   "cell_type": "markdown",
   "metadata": {},
   "source": [
    "### Framework 2"
   ]
  },
  {
   "cell_type": "code",
   "execution_count": 12,
   "metadata": {},
   "outputs": [],
   "source": [
    "def predict_for_coefficient(X,Y,u_idx,framework,model_son=False):\n",
    "    transform=framework.args.transform_te \n",
    "    loader_te = DataLoader(framework.handler(X[u_idx], Y[u_idx], transform=transform), pin_memory=True, \n",
    "                        shuffle=False, **framework.args.loader_te_args)\n",
    "    if not model_son:\n",
    "        framework.net.eval()\n",
    "        predictions = []\n",
    "        with torch.no_grad():\n",
    "            for x, _,_ in loader_te:\n",
    "                # Move the batch to the appropriate device (CPU or GPU)\n",
    "                x= x.to(framework.device)  # device could be 'cuda' or 'cpu'\n",
    "                # Forward pass to obtain predictions\n",
    "                batch_predictions,_= framework.net(x)\n",
    "                \n",
    "                # Append batch predictions to the list\n",
    "                predictions.append(batch_predictions.cpu().numpy())  # Move predictions to CPU and convert to numpy\n",
    "\n",
    "        # Concatenate predictions from all batches\n",
    "        predictions = np.concatenate(predictions, axis=0)\n",
    "        return np.argmax(predictions,axis=1)\n",
    "    else:\n",
    "        framework.net_son.eval()\n",
    "        predictions = []\n",
    "        with torch.no_grad():\n",
    "            for x, _,_ in loader_te:\n",
    "                # Move the batch to the appropriate device (CPU or GPU)\n",
    "                x= x.to(framework.device)  # device could be 'cuda' or 'cpu'\n",
    "                # Forward pass to obtain predictions\n",
    "                batch_predictions,_= framework.net_son(x)\n",
    "                \n",
    "                # Append batch predictions to the list\n",
    "                predictions.append(batch_predictions.cpu().numpy())  # Move predictions to CPU and convert to numpy\n",
    "\n",
    "        # Concatenate predictions from all batches\n",
    "        predictions = np.concatenate(predictions, axis=0)\n",
    "        return np.argmax(predictions,axis=1)\n",
    "\n",
    "    "
   ]
  },
  {
   "cell_type": "code",
   "execution_count": 13,
   "metadata": {},
   "outputs": [],
   "source": [
    "framework_2= Framework2(X_tr, Y_tr, X_te, Y_te, idxs_lb, model, handler, args)"
   ]
  },
  {
   "cell_type": "markdown",
   "metadata": {},
   "source": [
    "#### Train model father"
   ]
  },
  {
   "cell_type": "code",
   "execution_count": 14,
   "metadata": {},
   "outputs": [
    {
     "name": "stdout",
     "output_type": "stream",
     "text": [
      " Strategy for active learningLeastConfidence and strategy for semi-supervised learning used fixmatch\n",
      "Let's use 1 GPUs!\n",
      "[Batch=000] [Loss=2.60]\n",
      "\n",
      "==>>[2023-09-01 14:20:15] [Epoch=000/010] [framwork1(LeastConfidence+fixmatch) Need: 00:00:00] [LR=0.1000] [Best : Test Accuracy=0.00, Error=1.00]\n",
      "[Batch=000] [Loss=2.58]\n",
      "\n",
      "==>>[2023-09-01 14:20:17] [Epoch=001/010] [framwork1(LeastConfidence+fixmatch) Need: 00:00:39] [LR=0.1000] [Best : Test Accuracy=0.12, Error=0.88]\n",
      "[Batch=000] [Loss=1.97]\n",
      "\n",
      "==>>[2023-09-01 14:20:19] [Epoch=002/010] [framwork1(LeastConfidence+fixmatch) Need: 00:00:24] [LR=0.1000] [Best : Test Accuracy=0.12, Error=0.88]\n",
      "[Batch=000] [Loss=1.37]\n",
      "\n",
      "==>>[2023-09-01 14:20:21] [Epoch=003/010] [framwork1(LeastConfidence+fixmatch) Need: 00:00:18] [LR=0.1000] [Best : Test Accuracy=0.12, Error=0.88]\n",
      "[Batch=000] [Loss=1.06]\n",
      "\n",
      "==>>[2023-09-01 14:20:23] [Epoch=004/010] [framwork1(LeastConfidence+fixmatch) Need: 00:00:15] [LR=0.1000] [Best : Test Accuracy=0.12, Error=0.88]\n",
      "[Batch=000] [Loss=0.92]\n",
      "\n",
      "==>>[2023-09-01 14:20:25] [Epoch=005/010] [framwork1(LeastConfidence+fixmatch) Need: 00:00:11] [LR=0.1000] [Best : Test Accuracy=0.13, Error=0.87]\n",
      "[Batch=000] [Loss=0.83]\n",
      "\n",
      "==>>[2023-09-01 14:20:27] [Epoch=006/010] [framwork1(LeastConfidence+fixmatch) Need: 00:00:09] [LR=0.1000] [Best : Test Accuracy=0.20, Error=0.80]\n",
      "[Batch=000] [Loss=0.50]\n",
      "\n",
      "==>>[2023-09-01 14:20:28] [Epoch=007/010] [framwork1(LeastConfidence+fixmatch) Need: 00:00:06] [LR=0.1000] [Best : Test Accuracy=0.53, Error=0.47]\n",
      "[Batch=000] [Loss=0.51]\n",
      "\n",
      "==>>[2023-09-01 14:20:30] [Epoch=008/010] [framwork1(LeastConfidence+fixmatch) Need: 00:00:04] [LR=0.1000] [Best : Test Accuracy=0.53, Error=0.47]\n",
      "[Batch=000] [Loss=0.65]\n",
      "\n",
      "==>>[2023-09-01 14:20:32] [Epoch=009/010] [framwork1(LeastConfidence+fixmatch) Need: 00:00:02] [LR=0.1000] [Best : Test Accuracy=0.66, Error=0.34]\n",
      "---- save figure the accuracy/loss curve of train/val into ./save/mnist\n",
      "Let's use 1 GPUs!\n",
      "[Batch=000] [Loss=2.61]\n",
      "\n",
      "==>>[2023-09-01 14:20:34] [Epoch=000/010] [framwork1(LeastConfidence+fixmatch) Need: 00:00:00] [LR=0.1000] [Best : Test Accuracy=0.00, Error=1.00]\n",
      "[Batch=000] [Loss=2.56]\n",
      "\n",
      "==>>[2023-09-01 14:20:36] [Epoch=001/010] [framwork1(LeastConfidence+fixmatch) Need: 00:00:16] [LR=0.1000] [Best : Test Accuracy=0.10, Error=0.90]\n",
      "[Batch=000] [Loss=2.02]\n",
      "\n",
      "==>>[2023-09-01 14:20:38] [Epoch=002/010] [framwork1(LeastConfidence+fixmatch) Need: 00:00:14] [LR=0.1000] [Best : Test Accuracy=0.12, Error=0.88]\n",
      "[Batch=000] [Loss=1.76]\n",
      "\n",
      "==>>[2023-09-01 14:20:40] [Epoch=003/010] [framwork1(LeastConfidence+fixmatch) Need: 00:00:13] [LR=0.1000] [Best : Test Accuracy=0.12, Error=0.88]\n",
      "[Batch=000] [Loss=1.55]\n",
      "\n",
      "==>>[2023-09-01 14:20:42] [Epoch=004/010] [framwork1(LeastConfidence+fixmatch) Need: 00:00:11] [LR=0.1000] [Best : Test Accuracy=0.12, Error=0.88]\n",
      "[Batch=000] [Loss=1.06]\n",
      "\n",
      "==>>[2023-09-01 14:20:44] [Epoch=005/010] [framwork1(LeastConfidence+fixmatch) Need: 00:00:09] [LR=0.1000] [Best : Test Accuracy=0.15, Error=0.85]\n",
      "[Batch=000] [Loss=0.76]\n",
      "\n",
      "==>>[2023-09-01 14:20:45] [Epoch=006/010] [framwork1(LeastConfidence+fixmatch) Need: 00:00:07] [LR=0.1000] [Best : Test Accuracy=0.29, Error=0.71]\n",
      "[Batch=000] [Loss=0.82]\n",
      "\n",
      "==>>[2023-09-01 14:20:47] [Epoch=007/010] [framwork1(LeastConfidence+fixmatch) Need: 00:00:05] [LR=0.1000] [Best : Test Accuracy=0.54, Error=0.46]\n",
      "[Batch=000] [Loss=0.68]\n",
      "\n",
      "==>>[2023-09-01 14:20:49] [Epoch=008/010] [framwork1(LeastConfidence+fixmatch) Need: 00:00:03] [LR=0.1000] [Best : Test Accuracy=0.54, Error=0.46]\n",
      "[Batch=000] [Loss=0.68]\n",
      "\n",
      "==>>[2023-09-01 14:20:51] [Epoch=009/010] [framwork1(LeastConfidence+fixmatch) Need: 00:00:01] [LR=0.1000] [Best : Test Accuracy=0.68, Error=0.32]\n",
      "---- save figure the accuracy/loss curve of train/val into ./save/mnist\n"
     ]
    },
    {
     "data": {
      "text/plain": [
       "0.7429"
      ]
     },
     "execution_count": 14,
     "metadata": {},
     "output_type": "execute_result"
    }
   ],
   "source": [
    "print(f' Strategy for active learning{args.ALstrat} and strategy for semi-supervised learning used {args.SSLstrat}')\n",
    "\n",
    "stratAl_model_1=LeastConfidence(framework_2.X, framework_2.Y, framework_2.X_te, framework_2.Y_te, framework_2.idxs_lb, framework_2.net, framework_2.handler, framework_2.args,framework_2.n_pool,framework_2.device)\n",
    "stratSSL_model_1=pseudolabel(framework_2.X, framework_2.Y, framework_2.X_te, framework_2.Y_te, framework_2.idxs_lb, framework_2.net, framework_2.handler, framework_2.args,framework_2.n_pool,framework_2.device,framework_2.predict,framework_2.g)\n",
    "\n",
    "# Train father\n",
    "framework_2.train(alpha=2e-3,n_epoch=10)\n",
    "\n",
    "\n",
    "# Train soon \n",
    "\n",
    "framework_2.train(alpha=2e-3,n_epoch=10,model_son=True)"
   ]
  },
  {
   "cell_type": "code",
   "execution_count": null,
   "metadata": {},
   "outputs": [],
   "source": [
    "test_acc=framework_2.predict(framework_2.X_te,framework_2.Y_te)\n",
    "acc = np.zeros(NUM_ROUND+1)\n",
    "acc[0] = test_acc"
   ]
  },
  {
   "cell_type": "code",
   "execution_count": null,
   "metadata": {},
   "outputs": [],
   "source": [
    "for rd in range(1, NUM_ROUND+1):\n",
    "\n",
    "    labeled = len(np.arange(framework_2.n_pool)[framework_2.idxs_lb])\n",
    "    if NUM_QUERY > int(nEnd*framework_2.n_pool/100) - labeled:\n",
    "        NUM_QUERY = int(nEnd*framework_2.n_pool/100) - labeled\n",
    "        \n",
    "    # query\n",
    "    ts = time.time()\n",
    "    output = stratAl_model_1.query(NUM_QUERY)\n",
    "    q_idxs = output\n",
    "    #predict father and son\n",
    "    prediction_father=predict_for_coefficient(framework_2.X, framework_2.Y,q_idxs,framework_2)\n",
    "    prediction_son=predict_for_coefficient(framework_2.X, framework_2.Y,q_idxs,framework_2,model_son=True)\n",
    "    print(\"father: \", prediction_father)\n",
    "    print(\"Son : \",prediction_son)\n",
    "    # compute the coefficient\n",
    "    cof=am_capa(prediction_father,prediction_son)\n",
    "    print(cof)    \n",
    "    # update\n",
    "    framework_2.update(framework_2.idxs_lb)\n",
    "    framework_2.idxs_lb[q_idxs] = True\n",
    "    te = time.time()\n",
    "    tp = te - ts\n",
    "\n",
    "\n",
    "    if cof<0.8:\n",
    "        # Al_methods\n",
    "        print( 'AL Methods')\n",
    "        print('Round {}/{}'.format(rd, NUM_ROUND), flush=True)\n",
    "\n",
    "        if hasattr(stratAl_model_1, 'train'):\n",
    "        \n",
    "            best_test_acc=stratAl_model_1.train(alpha=2e-3, n_epoch=5)\n",
    "        else: best_test_acc = framework_2.train(alpha=2e-3, n_epoch=5)\n",
    "        print(best_test_acc)\n",
    "        best_test_acc_son=framework_2.train(alpha=2e-3,n_epoch=5,model_son=True)\n",
    "        print(best_test_acc_son)\n",
    "\n",
    "\n",
    "        t_iter = time.time() - ts\n",
    "        \n",
    "        # round accuracy\n",
    "        # test_acc = strategy.predict(X_te, Y_te)\n",
    "        acc[rd] = best_test_acc\n",
    "    else:\n",
    "        #SSL methods\n",
    "        print(\"SSL Methods\")\n",
    "        print('Round {}/{}'.format(rd, NUM_ROUND), flush=True)\n",
    "        best_test_acc = stratSSL_model_1.train(alpha=2e-3, n_epoch=5)\n",
    "        framework_2.train(alpha=2e-3,n_epoch=5,model_son=True)\n",
    "\n",
    "\n",
    "        t_iter = time.time() - ts\n",
    "        \n",
    "        # round accuracy\n",
    "        # test_acc = strategy.predict(X_te, Y_te)\n",
    "        acc[rd] = best_test_acc"
   ]
  },
  {
   "cell_type": "code",
   "execution_count": null,
   "metadata": {},
   "outputs": [],
   "source": [
    "acc\n"
   ]
  }
 ],
 "metadata": {
  "kernelspec": {
   "display_name": "base",
   "language": "python",
   "name": "python3"
  },
  "language_info": {
   "codemirror_mode": {
    "name": "ipython",
    "version": 3
   },
   "file_extension": ".py",
   "mimetype": "text/x-python",
   "name": "python",
   "nbconvert_exporter": "python",
   "pygments_lexer": "ipython3",
   "version": "3.10.9"
  },
  "orig_nbformat": 4
 },
 "nbformat": 4,
 "nbformat_minor": 2
}
