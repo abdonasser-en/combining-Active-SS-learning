{
 "cells": [
  {
   "cell_type": "code",
   "execution_count": 16,
   "metadata": {},
   "outputs": [],
   "source": [
    "import numpy as np\n",
    "import torch\n",
    "from preprocess.dataset import get_MNIST,get_dataset,get_handler\n",
    "from models.model import Model\n",
    "from al_methods.random_sampling import RandomSampling\n",
    "from ssl_methods.semi_fixmatch import fixmatch\n",
    "import models\n",
    "from torchvision import transforms\n",
    "from framework.framework2 import Framework2\n",
    "from copy import deepcopy\n",
    "import torch.nn as nn\n",
    "import time"
   ]
  },
  {
   "cell_type": "code",
   "execution_count": 17,
   "metadata": {},
   "outputs": [],
   "source": [
    "# in the main \n",
    "X_tr, Y_tr, X_te, Y_te = get_dataset(\"Mnist\", \"./datasets\")"
   ]
  },
  {
   "cell_type": "code",
   "execution_count": 18,
   "metadata": {},
   "outputs": [],
   "source": [
    "# in the main \n",
    "if type(X_tr) is list:\n",
    "    X_tr = np.array(X_tr)\n",
    "    Y_tr = torch.tensor(np.array(Y_tr))\n",
    "    X_te = np.array(X_te)\n",
    "    Y_te = torch.tensor(np.array(Y_te))\n",
    "\n",
    "if type(X_tr[0]) is not np.ndarray:\n",
    "    X_tr = X_tr.numpy()\n",
    "    X_te = X_te.numpy()\n",
    "    "
   ]
  },
  {
   "cell_type": "code",
   "execution_count": 19,
   "metadata": {},
   "outputs": [
    {
     "name": "stdout",
     "output_type": "stream",
     "text": [
      "6000 9 6000\n"
     ]
    },
    {
     "data": {
      "text/plain": [
       "array([False, False,  True, ..., False, False, False])"
      ]
     },
     "execution_count": 19,
     "metadata": {},
     "output_type": "execute_result"
    }
   ],
   "source": [
    "# in the main\n",
    "n_pool = len(Y_tr)\n",
    "n_test = len(Y_te)\n",
    "#in the main\n",
    "handler = get_handler(\"mnist\")\n",
    "# main or framewrok to see\n",
    "nEnd=100 # total number to query \n",
    "nQuery=10 # nombre of points to query in batch \n",
    "nStart=10 # nbre of points to start\n",
    "NUM_INIT_LB = int(nStart*n_pool/100)\n",
    "NUM_QUERY = int(nQuery*n_pool/100) if nStart!= 100 else 0\n",
    "NUM_ROUND = int((int(nEnd*n_pool/100) - NUM_INIT_LB)/ NUM_QUERY) if nStart!= 100 else 0\n",
    "if NUM_QUERY != 0:\n",
    "    if (int(nEnd*n_pool/100) - NUM_INIT_LB)% NUM_QUERY != 0:\n",
    "        NUM_ROUND += 1\n",
    "print(NUM_INIT_LB,NUM_ROUND,NUM_QUERY)\n",
    "model_name = sorted(name for name in models.__dict__ \n",
    "                    if callable(models.__dict__[name]))\n",
    "model_name\n",
    "model=Model('resnet50').get_model()\n",
    "model\n",
    "model.conv1 = torch.nn.Conv2d(1, 64, kernel_size=7, stride=2, padding=3, bias=False)  # Conversion en 3 canaux\n",
    "model.fc = torch.nn.Linear(2048, 10)  # Modifier la couche de classification pour 10 classes\n",
    "# in the main file\n",
    "idxs_lb = np.zeros(n_pool, dtype=bool)\n",
    "idxs_lb\n",
    "# in the main file\n",
    "idxs_tmp = np.arange(n_pool)\n",
    "idxs_tmp\n",
    "np.random.shuffle(idxs_tmp)\n",
    "idxs_tmp\n",
    "# in the main file\n",
    "idxs_lb[idxs_tmp[:NUM_INIT_LB]] = True\n",
    "idxs_lb"
   ]
  },
  {
   "cell_type": "code",
   "execution_count": 20,
   "metadata": {},
   "outputs": [],
   "source": [
    "args_pool = {'mnist':\n",
    "                { \n",
    "                 'n_class':10,\n",
    "                 'channels':1,\n",
    "                 'size': 28,\n",
    "                 'transform_tr': transforms.Compose([\n",
    "                                transforms.RandomHorizontalFlip(),\n",
    "                                transforms.ToTensor(), \n",
    "                                transforms.Normalize((0.1307,), (0.3081,))]),\n",
    "                 'transform_te': transforms.Compose([transforms.ToTensor(), \n",
    "                                transforms.Normalize((0.1307,), (0.3081,))]),\n",
    "                 'loader_tr_args':{'batch_size': 128, 'num_workers': 8},\n",
    "                 'loader_te_args':{'batch_size': 1024, 'num_workers': 8},\n",
    "                 'normalize':{'mean': (0.1307,), 'std': (0.3081,)},\n",
    "                },\n",
    "            \n",
    "        }"
   ]
  },
  {
   "cell_type": "code",
   "execution_count": 21,
   "metadata": {},
   "outputs": [],
   "source": [
    "class Args:\n",
    "    def __init__(self,n_class,img_size,channels,transform_tr,transform_te,loader_tr_args,loader_te_args,normalize):\n",
    "        self.n_class=n_class\n",
    "        self.img_size=img_size\n",
    "        self.channels=channels\n",
    "        self.transform_tr=transform_tr\n",
    "        self.transform_te=transform_te\n",
    "        self.loader_tr_args=loader_tr_args\n",
    "        self.loader_te_args=loader_te_args\n",
    "        self.normalize=normalize\n",
    "        self.dataset='mnist'\n",
    "        self.save_path='./save'\n",
    "        self.model='ResNet50'\n",
    "        self.lr=0.1\n",
    "        self.schedule = [20, 40]\n",
    "        self.momentum=0.9\n",
    "        self.gammas=[0.1,0.1]\n",
    "        self.strategy='framwork1'\n",
    "        self.optimizer='SGD'\n",
    "        self.save_model=False"
   ]
  },
  {
   "cell_type": "code",
   "execution_count": 22,
   "metadata": {},
   "outputs": [],
   "source": [
    "dataset_args = args_pool[\"mnist\"]\n",
    "n_class = dataset_args['n_class']\n",
    "img_size = dataset_args['size']\n",
    "channels = dataset_args['channels']\n",
    "transform_tr = dataset_args['transform_tr']\n",
    "transform_te = dataset_args['transform_te']\n",
    "loader_tr_args = dataset_args['loader_tr_args']\n",
    "loader_te_args = dataset_args['loader_te_args']\n",
    "normalize = dataset_args['normalize']"
   ]
  },
  {
   "cell_type": "code",
   "execution_count": 23,
   "metadata": {},
   "outputs": [],
   "source": [
    "args=Args(n_class,img_size,channels,transform_tr,transform_te,loader_tr_args,loader_te_args,normalize)"
   ]
  },
  {
   "cell_type": "code",
   "execution_count": 24,
   "metadata": {},
   "outputs": [],
   "source": [
    "al_strat=RandomSampling(X_tr, Y_tr, X_te, Y_te, idxs_lb, model, handler, args)\n",
    "ssl_strat=fixmatch(X_tr, Y_tr, X_te, Y_te, idxs_lb, model, handler, args)"
   ]
  },
  {
   "cell_type": "code",
   "execution_count": 25,
   "metadata": {},
   "outputs": [],
   "source": [
    "framework_2= Framework2(X_tr, Y_tr, X_te, Y_te, idxs_lb, model, handler, args,al_strat,ssl_strat)"
   ]
  },
  {
   "cell_type": "code",
   "execution_count": 26,
   "metadata": {},
   "outputs": [
    {
     "name": "stdout",
     "output_type": "stream",
     "text": [
      "Let's use 1 GPUs!\n",
      "[Batch=000] [Loss=2.55]\n",
      "[Batch=010] [Loss=8.00]\n",
      "[Batch=020] [Loss=4.16]\n",
      "[Batch=030] [Loss=3.22]\n",
      "[Batch=040] [Loss=2.58]\n",
      "\n",
      "==>>[2023-08-11 12:47:00] [Epoch=000/010] [framwork1 Need: 00:00:00] [LR=0.1000] [Best : Test Accuracy=0.00, Error=1.00]\n",
      "[Batch=000] [Loss=12.50]\n",
      "[Batch=010] [Loss=3.88]\n",
      "[Batch=020] [Loss=5.88]\n",
      "[Batch=030] [Loss=2.08]\n",
      "[Batch=040] [Loss=2.76]\n",
      "\n",
      "==>>[2023-08-11 12:47:03] [Epoch=001/010] [framwork1 Need: 00:00:29] [LR=0.1000] [Best : Test Accuracy=0.10, Error=0.90]\n",
      "[Batch=000] [Loss=2.21]\n",
      "[Batch=010] [Loss=2.22]\n",
      "[Batch=020] [Loss=2.01]\n",
      "[Batch=030] [Loss=1.67]\n",
      "[Batch=040] [Loss=7.36]\n",
      "\n",
      "==>>[2023-08-11 12:47:06] [Epoch=002/010] [framwork1 Need: 00:00:26] [LR=0.1000] [Best : Test Accuracy=0.15, Error=0.85]\n",
      "[Batch=000] [Loss=1.68]\n",
      "[Batch=010] [Loss=1.40]\n",
      "[Batch=020] [Loss=1.26]\n",
      "[Batch=030] [Loss=1.29]\n",
      "[Batch=040] [Loss=1.33]\n",
      "\n",
      "==>>[2023-08-11 12:47:10] [Epoch=003/010] [framwork1 Need: 00:00:23] [LR=0.1000] [Best : Test Accuracy=0.43, Error=0.57]\n",
      "[Batch=000] [Loss=1.25]\n",
      "[Batch=010] [Loss=1.53]\n",
      "[Batch=020] [Loss=1.27]\n",
      "[Batch=030] [Loss=1.02]\n",
      "[Batch=040] [Loss=0.99]\n",
      "\n",
      "==>>[2023-08-11 12:47:13] [Epoch=004/010] [framwork1 Need: 00:00:20] [LR=0.1000] [Best : Test Accuracy=0.52, Error=0.48]\n",
      "[Batch=000] [Loss=0.98]\n",
      "[Batch=010] [Loss=1.02]\n",
      "[Batch=020] [Loss=0.98]\n",
      "[Batch=030] [Loss=0.98]\n",
      "[Batch=040] [Loss=0.70]\n",
      "\n",
      "==>>[2023-08-11 12:47:16] [Epoch=005/010] [framwork1 Need: 00:00:16] [LR=0.1000] [Best : Test Accuracy=0.61, Error=0.39]\n",
      "[Batch=000] [Loss=0.74]\n",
      "[Batch=010] [Loss=0.88]\n",
      "[Batch=020] [Loss=0.68]\n",
      "[Batch=030] [Loss=0.62]\n",
      "[Batch=040] [Loss=0.55]\n",
      "\n",
      "==>>[2023-08-11 12:47:20] [Epoch=006/010] [framwork1 Need: 00:00:13] [LR=0.1000] [Best : Test Accuracy=0.65, Error=0.35]\n",
      "[Batch=000] [Loss=0.52]\n",
      "[Batch=010] [Loss=0.54]\n",
      "[Batch=020] [Loss=0.62]\n",
      "[Batch=030] [Loss=0.61]\n",
      "[Batch=040] [Loss=0.51]\n",
      "\n",
      "==>>[2023-08-11 12:47:23] [Epoch=007/010] [framwork1 Need: 00:00:10] [LR=0.1000] [Best : Test Accuracy=0.76, Error=0.24]\n",
      "[Batch=000] [Loss=0.61]\n",
      "[Batch=010] [Loss=0.50]\n",
      "[Batch=020] [Loss=0.53]\n",
      "[Batch=030] [Loss=0.43]\n",
      "[Batch=040] [Loss=0.37]\n",
      "\n",
      "==>>[2023-08-11 12:47:26] [Epoch=008/010] [framwork1 Need: 00:00:06] [LR=0.1000] [Best : Test Accuracy=0.82, Error=0.18]\n",
      "[Batch=000] [Loss=0.45]\n",
      "[Batch=010] [Loss=0.90]\n",
      "[Batch=020] [Loss=0.80]\n",
      "[Batch=030] [Loss=0.77]\n",
      "[Batch=040] [Loss=0.89]\n",
      "\n",
      "==>>[2023-08-11 12:47:30] [Epoch=009/010] [framwork1 Need: 00:00:03] [LR=0.1000] [Best : Test Accuracy=0.84, Error=0.16]\n",
      "---- save figure the accuracy/loss curve of train/val into ./save/mnist\n"
     ]
    },
    {
     "data": {
      "text/plain": [
       "0.8425"
      ]
     },
     "execution_count": 26,
     "metadata": {},
     "output_type": "execute_result"
    }
   ],
   "source": [
    "framework_2.train(2e-3,10)"
   ]
  },
  {
   "cell_type": "code",
   "execution_count": 29,
   "metadata": {},
   "outputs": [],
   "source": [
    "test_acc=framework_2.strat_1.predict(X_te,Y_te)"
   ]
  },
  {
   "cell_type": "code",
   "execution_count": 30,
   "metadata": {},
   "outputs": [
    {
     "data": {
      "text/plain": [
       "0.0982"
      ]
     },
     "execution_count": 30,
     "metadata": {},
     "output_type": "execute_result"
    }
   ],
   "source": [
    "test_acc"
   ]
  },
  {
   "cell_type": "code",
   "execution_count": null,
   "metadata": {},
   "outputs": [],
   "source": [
    "acc = np.zeros(NUM_ROUND+1)\n",
    "acc[0] = test_acc"
   ]
  },
  {
   "cell_type": "code",
   "execution_count": null,
   "metadata": {},
   "outputs": [],
   "source": [
    "len(acc)"
   ]
  },
  {
   "cell_type": "code",
   "execution_count": null,
   "metadata": {},
   "outputs": [],
   "source": [
    "# for rd in range(1, NUM_ROUND+1):\n",
    "\n",
    "#     if rd%2==0:\n",
    "#         # Al_methods\n",
    "#         print('Round {}/{}'.format(rd, NUM_ROUND), flush=True)\n",
    "#         labeled = len(np.arange(n_pool)[idxs_lb])\n",
    "#         if NUM_QUERY > int(nEnd*n_pool/100) - labeled:\n",
    "#             NUM_QUERY = int(nEnd*n_pool/100) - labeled\n",
    "            \n",
    "#         # query\n",
    "#         ts = time.time()\n",
    "#         output = al_strat.query(NUM_QUERY)\n",
    "#         q_idxs = output\n",
    "#         idxs_lb[q_idxs] = True\n",
    "#         te = time.time()\n",
    "#         tp = te - ts\n",
    "        \n",
    "#         # update\n",
    "#         al_strat.update(idxs_lb)\n",
    "#         best_test_acc = al_strat.train(alpha=2e-3, n_epoch=10)\n",
    "\n",
    "#         t_iter = time.time() - ts\n",
    "        \n",
    "#         # round accuracy\n",
    "#         # test_acc = strategy.predict(X_te, Y_te)\n",
    "#         acc[rd] = best_test_acc\n",
    "#     else:\n",
    "#         #SSL methods\n",
    "        \n",
    "#         print('Round {}/{}'.format(rd, NUM_ROUND), flush=True)\n",
    "#         labeled = len(np.arange(n_pool)[idxs_lb])\n",
    "#         if NUM_QUERY > int(nEnd*n_pool/100) - labeled:\n",
    "#             NUM_QUERY = int(nEnd*n_pool/100) - labeled\n",
    "            \n",
    "#         # query\n",
    "#         ts = time.time()\n",
    "#         output = ssl_strat.query(NUM_QUERY)\n",
    "#         q_idxs = output\n",
    "#         idxs_lb[q_idxs] = True\n",
    "#         te = time.time()\n",
    "#         tp = te - ts\n",
    "        \n",
    "#         # update\n",
    "#         ssl_strat.update(idxs_lb)\n",
    "#         best_test_acc = ssl_strat.train(alpha=2e-3, n_epoch=10)\n",
    "\n",
    "#         t_iter = time.time() - ts\n",
    "        \n",
    "#         # round accuracy\n",
    "#         # test_acc = strategy.predict(X_te, Y_te)\n",
    "#         acc[rd] = best_test_acc\n"
   ]
  },
  {
   "cell_type": "code",
   "execution_count": null,
   "metadata": {},
   "outputs": [],
   "source": []
  }
 ],
 "metadata": {
  "kernelspec": {
   "display_name": "base",
   "language": "python",
   "name": "python3"
  },
  "language_info": {
   "codemirror_mode": {
    "name": "ipython",
    "version": 3
   },
   "file_extension": ".py",
   "mimetype": "text/x-python",
   "name": "python",
   "nbconvert_exporter": "python",
   "pygments_lexer": "ipython3",
   "version": "3.10.9"
  },
  "orig_nbformat": 4
 },
 "nbformat": 4,
 "nbformat_minor": 2
}
