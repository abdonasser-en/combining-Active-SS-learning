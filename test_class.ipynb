{
 "cells": [
  {
   "cell_type": "code",
   "execution_count": 28,
   "metadata": {},
   "outputs": [],
   "source": [
    "import numpy as np\n",
    "import torch\n",
    "from preprocess.dataset import get_MNIST,get_dataset,get_handler\n",
    "from models.model import Model\n",
    "from al_methods.random_sampling import RandomSampling\n",
    "from ssl_methods.semi_fixmatch import fixmatch\n",
    "import models\n",
    "from torchvision import transforms\n",
    "from framework.framework2 import Framework2\n",
    "import torch.nn as nn\n",
    "import time\n",
    "from torch.utils.data import DataLoader\n",
    "from scipy.spatial.distance import jensenshannon"
   ]
  },
  {
   "cell_type": "code",
   "execution_count": 2,
   "metadata": {},
   "outputs": [],
   "source": [
    "# in the main \n",
    "X_tr, Y_tr, X_te, Y_te = get_dataset(\"Mnist\", \"./datasets\")"
   ]
  },
  {
   "cell_type": "code",
   "execution_count": 3,
   "metadata": {},
   "outputs": [],
   "source": [
    "# in the main \n",
    "if type(X_tr) is list:\n",
    "    X_tr = np.array(X_tr)\n",
    "    Y_tr = torch.tensor(np.array(Y_tr))\n",
    "    X_te = np.array(X_te)\n",
    "    Y_te = torch.tensor(np.array(Y_te))\n",
    "\n",
    "if type(X_tr[0]) is not np.ndarray:\n",
    "    X_tr = X_tr.numpy()\n",
    "    X_te = X_te.numpy()\n",
    "    "
   ]
  },
  {
   "cell_type": "code",
   "execution_count": 6,
   "metadata": {},
   "outputs": [
    {
     "name": "stdout",
     "output_type": "stream",
     "text": [
      "6000 40 600\n"
     ]
    },
    {
     "data": {
      "text/plain": [
       "array([False, False, False, ..., False, False, False])"
      ]
     },
     "execution_count": 6,
     "metadata": {},
     "output_type": "execute_result"
    }
   ],
   "source": [
    "# in the main\n",
    "n_pool = len(Y_tr)\n",
    "n_test = len(Y_te)\n",
    "#in the main\n",
    "handler = get_handler(\"mnist\")\n",
    "# main or framewrok to see\n",
    "nEnd=50 # total number to query \n",
    "nQuery=1 # nombre of points to query in batch \n",
    "nStart=10 # nbre of points to start\n",
    "NUM_INIT_LB = int(nStart*n_pool/100)\n",
    "NUM_QUERY = int(nQuery*n_pool/100) if nStart!= 100 else 0\n",
    "NUM_ROUND = int((int(nEnd*n_pool/100) - NUM_INIT_LB)/ NUM_QUERY) if nStart!= 100 else 0\n",
    "if NUM_QUERY != 0:\n",
    "    if (int(nEnd*n_pool/100) - NUM_INIT_LB)% NUM_QUERY != 0:\n",
    "        NUM_ROUND += 1\n",
    "print(NUM_INIT_LB,NUM_ROUND,NUM_QUERY)\n",
    "model_name = sorted(name for name in models.__dict__ \n",
    "                    if callable(models.__dict__[name]))\n",
    "model_name\n",
    "model=Model('resnet50').get_model()\n",
    "model\n",
    "model.conv1 = torch.nn.Conv2d(1, 64, kernel_size=7, stride=2, padding=3, bias=False)  # Conversion en 3 canaux\n",
    "model.fc = torch.nn.Linear(2048, 10)  # Modifier la couche de classification pour 10 classes\n",
    "# in the main file\n",
    "idxs_lb = np.zeros(n_pool, dtype=bool)\n",
    "idxs_lb\n",
    "# in the main file\n",
    "idxs_tmp = np.arange(n_pool)\n",
    "idxs_tmp\n",
    "np.random.shuffle(idxs_tmp)\n",
    "idxs_tmp\n",
    "# in the main file\n",
    "idxs_lb[idxs_tmp[:NUM_INIT_LB]] = True\n",
    "idxs_lb"
   ]
  },
  {
   "cell_type": "code",
   "execution_count": 9,
   "metadata": {},
   "outputs": [
    {
     "data": {
      "text/plain": [
       "60000"
      ]
     },
     "execution_count": 9,
     "metadata": {},
     "output_type": "execute_result"
    }
   ],
   "source": [
    "len(idxs_lb)"
   ]
  },
  {
   "cell_type": "code",
   "execution_count": 8,
   "metadata": {},
   "outputs": [
    {
     "data": {
      "text/plain": [
       "6000"
      ]
     },
     "execution_count": 8,
     "metadata": {},
     "output_type": "execute_result"
    }
   ],
   "source": [
    "len(idxs_lb[idxs_lb==True])"
   ]
  },
  {
   "cell_type": "code",
   "execution_count": 10,
   "metadata": {},
   "outputs": [],
   "source": [
    "args_pool = {'mnist':\n",
    "                { \n",
    "                 'n_class':10,\n",
    "                 'channels':1,\n",
    "                 'size': 28,\n",
    "                 'transform_tr': transforms.Compose([\n",
    "                                transforms.RandomHorizontalFlip(),\n",
    "                                transforms.ToTensor(), \n",
    "                                transforms.Normalize((0.1307,), (0.3081,))]),\n",
    "                 'transform_te': transforms.Compose([transforms.ToTensor(), \n",
    "                                transforms.Normalize((0.1307,), (0.3081,))]),\n",
    "                 'loader_tr_args':{'batch_size': 128, 'num_workers': 8},\n",
    "                 'loader_te_args':{'batch_size': 1024, 'num_workers': 8},\n",
    "                 'normalize':{'mean': (0.1307,), 'std': (0.3081,)},\n",
    "                },\n",
    "            \n",
    "        }"
   ]
  },
  {
   "cell_type": "code",
   "execution_count": 11,
   "metadata": {},
   "outputs": [],
   "source": [
    "class Args:\n",
    "    def __init__(self,n_class,img_size,channels,transform_tr,transform_te,loader_tr_args,loader_te_args,normalize):\n",
    "        self.n_class=n_class\n",
    "        self.img_size=img_size\n",
    "        self.channels=channels\n",
    "        self.transform_tr=transform_tr\n",
    "        self.transform_te=transform_te\n",
    "        self.loader_tr_args=loader_tr_args\n",
    "        self.loader_te_args=loader_te_args\n",
    "        self.normalize=normalize\n",
    "        self.dataset='mnist'\n",
    "        self.save_path='./save'\n",
    "        self.model='ResNet50'\n",
    "        self.lr=0.1\n",
    "        self.schedule = [20, 40]\n",
    "        self.momentum=0.9\n",
    "        self.gammas=[0.1,0.1]\n",
    "        self.strategy='framwork1'\n",
    "        self.optimizer='SGD'\n",
    "        self.save_model=False"
   ]
  },
  {
   "cell_type": "code",
   "execution_count": 12,
   "metadata": {},
   "outputs": [],
   "source": [
    "dataset_args = args_pool[\"mnist\"]\n",
    "n_class = dataset_args['n_class']\n",
    "img_size = dataset_args['size']\n",
    "channels = dataset_args['channels']\n",
    "transform_tr = dataset_args['transform_tr']\n",
    "transform_te = dataset_args['transform_te']\n",
    "loader_tr_args = dataset_args['loader_tr_args']\n",
    "loader_te_args = dataset_args['loader_te_args']\n",
    "normalize = dataset_args['normalize']"
   ]
  },
  {
   "cell_type": "code",
   "execution_count": 13,
   "metadata": {},
   "outputs": [],
   "source": [
    "args=Args(n_class,img_size,channels,transform_tr,transform_te,loader_tr_args,loader_te_args,normalize)"
   ]
  },
  {
   "cell_type": "code",
   "execution_count": null,
   "metadata": {},
   "outputs": [],
   "source": [
    "# al_strat=RandomSampling(X_tr, Y_tr, X_te, Y_te, idxs_lb, model, handler, args)\n",
    "# ssl_strat=fixmatch(X_tr, Y_tr, X_te, Y_te, idxs_lb, model, handler, args)"
   ]
  },
  {
   "cell_type": "code",
   "execution_count": 14,
   "metadata": {},
   "outputs": [],
   "source": [
    "framework_2= Framework2(X_tr, Y_tr, X_te, Y_te, idxs_lb, model, handler, args,RandomSampling,fixmatch)"
   ]
  },
  {
   "cell_type": "code",
   "execution_count": 16,
   "metadata": {},
   "outputs": [
    {
     "name": "stdout",
     "output_type": "stream",
     "text": [
      "Let's use 1 GPUs!\n",
      "[Batch=000] [Loss=2.64]\n",
      "[Batch=010] [Loss=6.04]\n",
      "[Batch=020] [Loss=2.34]\n",
      "[Batch=030] [Loss=2.23]\n",
      "[Batch=040] [Loss=2.11]\n",
      "\n",
      "==>>[2023-08-21 08:34:39] [Epoch=000/010] [framwork1 Need: 00:00:00] [LR=0.1000] [Best : Test Accuracy=0.00, Error=1.00]\n",
      "[Batch=000] [Loss=2.04]\n",
      "[Batch=010] [Loss=1.99]\n",
      "[Batch=020] [Loss=1.98]\n",
      "[Batch=030] [Loss=1.91]\n",
      "[Batch=040] [Loss=1.80]\n",
      "\n",
      "==>>[2023-08-21 08:34:42] [Epoch=001/010] [framwork1 Need: 00:00:46] [LR=0.1000] [Best : Test Accuracy=0.20, Error=0.80]\n",
      "[Batch=000] [Loss=1.79]\n",
      "[Batch=010] [Loss=1.64]\n",
      "[Batch=020] [Loss=1.44]\n",
      "[Batch=030] [Loss=1.23]\n",
      "[Batch=040] [Loss=0.96]\n",
      "\n",
      "==>>[2023-08-21 08:34:45] [Epoch=002/010] [framwork1 Need: 00:00:32] [LR=0.1000] [Best : Test Accuracy=0.29, Error=0.71]\n",
      "[Batch=000] [Loss=0.93]\n",
      "[Batch=010] [Loss=0.63]\n",
      "[Batch=020] [Loss=0.91]\n",
      "[Batch=030] [Loss=0.78]\n",
      "[Batch=040] [Loss=0.64]\n",
      "\n",
      "==>>[2023-08-21 08:34:49] [Epoch=003/010] [framwork1 Need: 00:00:26] [LR=0.1000] [Best : Test Accuracy=0.63, Error=0.37]\n",
      "[Batch=000] [Loss=0.66]\n",
      "[Batch=010] [Loss=0.82]\n",
      "[Batch=020] [Loss=0.47]\n",
      "[Batch=030] [Loss=0.55]\n",
      "[Batch=040] [Loss=0.48]\n",
      "\n",
      "==>>[2023-08-21 08:34:52] [Epoch=004/010] [framwork1 Need: 00:00:21] [LR=0.1000] [Best : Test Accuracy=0.77, Error=0.23]\n",
      "[Batch=000] [Loss=0.48]\n",
      "[Batch=010] [Loss=0.45]\n",
      "[Batch=020] [Loss=0.50]\n",
      "[Batch=030] [Loss=0.41]\n",
      "[Batch=040] [Loss=0.39]\n",
      "\n",
      "==>>[2023-08-21 08:34:55] [Epoch=005/010] [framwork1 Need: 00:00:17] [LR=0.1000] [Best : Test Accuracy=0.79, Error=0.21]\n",
      "[Batch=000] [Loss=0.39]\n",
      "[Batch=010] [Loss=0.35]\n",
      "[Batch=020] [Loss=0.29]\n",
      "[Batch=030] [Loss=0.37]\n",
      "[Batch=040] [Loss=0.39]\n",
      "\n",
      "==>>[2023-08-21 08:34:58] [Epoch=006/010] [framwork1 Need: 00:00:13] [LR=0.1000] [Best : Test Accuracy=0.84, Error=0.16]\n",
      "[Batch=000] [Loss=0.32]\n",
      "[Batch=010] [Loss=0.28]\n",
      "[Batch=020] [Loss=0.25]\n",
      "[Batch=030] [Loss=0.25]\n",
      "[Batch=040] [Loss=0.25]\n",
      "\n",
      "==>>[2023-08-21 08:35:01] [Epoch=007/010] [framwork1 Need: 00:00:10] [LR=0.1000] [Best : Test Accuracy=0.84, Error=0.16]\n",
      "[Batch=000] [Loss=0.24]\n",
      "[Batch=010] [Loss=0.24]\n",
      "[Batch=020] [Loss=0.29]\n",
      "[Batch=030] [Loss=0.20]\n",
      "[Batch=040] [Loss=0.26]\n",
      "\n",
      "==>>[2023-08-21 08:35:04] [Epoch=008/010] [framwork1 Need: 00:00:06] [LR=0.1000] [Best : Test Accuracy=0.86, Error=0.14]\n",
      "[Batch=000] [Loss=0.32]\n",
      "[Batch=010] [Loss=0.18]\n",
      "[Batch=020] [Loss=0.22]\n",
      "[Batch=030] [Loss=0.16]\n",
      "[Batch=040] [Loss=0.21]\n",
      "\n",
      "==>>[2023-08-21 08:35:07] [Epoch=009/010] [framwork1 Need: 00:00:03] [LR=0.1000] [Best : Test Accuracy=0.91, Error=0.09]\n",
      "---- save figure the accuracy/loss curve of train/val into ./save/mnist\n"
     ]
    },
    {
     "data": {
      "text/plain": [
       "0.931"
      ]
     },
     "execution_count": 16,
     "metadata": {},
     "output_type": "execute_result"
    }
   ],
   "source": [
    "framework_2.train(2e-3,10)"
   ]
  },
  {
   "cell_type": "markdown",
   "metadata": {},
   "source": [
    "## Data augementation"
   ]
  },
  {
   "cell_type": "code",
   "execution_count": 63,
   "metadata": {},
   "outputs": [],
   "source": [
    "# Create a weakly data augmentation transform\n",
    "weak_transform = transforms.Compose([\n",
    "    transforms.RandomCrop(14),\n",
    "    transforms.RandomHorizontalFlip(),\n",
    "    transforms.ToTensor()\n",
    "])\n",
    "\n",
    "# Create a strongly data augmentation transform\n",
    "strong_transform = transforms.Compose([\n",
    "    transforms.ColorJitter(brightness=0.2, contrast=0.2, saturation=0.2, hue=0.1),\n",
    "    transforms.GaussianBlur(kernel_size=(5, 5), sigma=(0.1, 0.1)),\n",
    "    transforms.RandomPerspective(),\n",
    "    transforms.ToTensor()\n",
    "])\n"
   ]
  },
  {
   "cell_type": "code",
   "execution_count": 71,
   "metadata": {},
   "outputs": [],
   "source": [
    "# Find indices where the boolean matrix is False\n",
    "false_indices = np.argwhere(framework_2.idxs_lb == False).squeeze()"
   ]
  },
  {
   "cell_type": "code",
   "execution_count": 72,
   "metadata": {},
   "outputs": [],
   "source": [
    "U_X_tr=X_tr[false_indices]\n",
    "U_Y_tr=Y_tr[false_indices]"
   ]
  },
  {
   "cell_type": "code",
   "execution_count": 75,
   "metadata": {},
   "outputs": [],
   "source": [
    "unlabeled_data_weak=DataLoader(handler(U_X_tr,U_Y_tr,transform=weak_transform))\n",
    "unlabeled_data_strong=DataLoader(handler(U_X_tr,U_Y_tr,transform=strong_transform))"
   ]
  },
  {
   "cell_type": "markdown",
   "metadata": {},
   "source": [
    "### weakly augmented"
   ]
  },
  {
   "cell_type": "code",
   "execution_count": 77,
   "metadata": {},
   "outputs": [],
   "source": [
    "net=framework_2.net.eval()\n",
    "predictions_weak = []\n",
    "with torch.no_grad():\n",
    "    for x, _,_ in unlabeled_data_weak:\n",
    "        # Move the batch to the appropriate device (CPU or GPU)\n",
    "        x= x.to(framework_2.device)  # device could be 'cuda' or 'cpu'\n",
    "        \n",
    "        # Forward pass to obtain predictions\n",
    "        batch_predictions = net(x)\n",
    "        \n",
    "        # Append batch predictions to the list\n",
    "        predictions_weak.append(batch_predictions.cpu().numpy())  # Move predictions to CPU and convert to numpy\n",
    "\n",
    "# Concatenate predictions from all batches\n",
    "predictions_weak = np.concatenate(predictions_weak, axis=0)\n"
   ]
  },
  {
   "cell_type": "code",
   "execution_count": 78,
   "metadata": {},
   "outputs": [],
   "source": [
    "net=framework_2.net.eval()\n",
    "predictions_strong = []\n",
    "with torch.no_grad():\n",
    "    for x, _,_ in unlabeled_data_strong:\n",
    "        # Move the batch to the appropriate device (CPU or GPU)\n",
    "        x= x.to(framework_2.device)  # device could be 'cuda' or 'cpu'\n",
    "        \n",
    "        # Forward pass to obtain predictions\n",
    "        batch_predictions = net(x)\n",
    "        \n",
    "        # Append batch predictions to the list\n",
    "        predictions_strong.append(batch_predictions.cpu().numpy())  # Move predictions to CPU and convert to numpy\n",
    "\n",
    "# Concatenate predictions from all batches\n",
    "predictions_strong = np.concatenate(predictions_strong, axis=0)\n"
   ]
  },
  {
   "cell_type": "code",
   "execution_count": 80,
   "metadata": {},
   "outputs": [
    {
     "data": {
      "text/plain": [
       "(54000, 10)"
      ]
     },
     "execution_count": 80,
     "metadata": {},
     "output_type": "execute_result"
    }
   ],
   "source": []
  },
  {
   "cell_type": "code",
   "execution_count": 86,
   "metadata": {},
   "outputs": [],
   "source": [
    "jensen=jensenshannon(predictions_weak,predictions_strong,axis=1)"
   ]
  },
  {
   "cell_type": "code",
   "execution_count": 102,
   "metadata": {},
   "outputs": [
    {
     "data": {
      "text/plain": [
       "array([93.40377 , 92.7573  , 89.573265, ..., 94.80471 , 93.96771 ,\n",
       "       93.51865 ], dtype=float32)"
      ]
     },
     "execution_count": 102,
     "metadata": {},
     "output_type": "execute_result"
    }
   ],
   "source": [
    "np.max(predictions_weak,axis=1)"
   ]
  },
  {
   "cell_type": "code",
   "execution_count": 105,
   "metadata": {},
   "outputs": [
    {
     "data": {
      "text/plain": [
       "array([53.32104 , 52.839134, 52.619137, ..., 53.893414, 55.16208 ,\n",
       "       52.69227 ], dtype=float32)"
      ]
     },
     "execution_count": 105,
     "metadata": {},
     "output_type": "execute_result"
    }
   ],
   "source": [
    "0.5*(np.max(predictions_weak,axis=1)+np.max(predictions_strong,axis=1))"
   ]
  },
  {
   "cell_type": "code",
   "execution_count": 107,
   "metadata": {},
   "outputs": [],
   "source": [
    "tot=(1-jensen ) *0.5*(np.max(predictions_weak,axis=1)+np.max(predictions_strong,axis=1))"
   ]
  },
  {
   "cell_type": "code",
   "execution_count": null,
   "metadata": {},
   "outputs": [],
   "source": []
  },
  {
   "cell_type": "code",
   "execution_count": null,
   "metadata": {},
   "outputs": [],
   "source": [
    "test_acc=framework_2.predict(X_te,Y_te)"
   ]
  },
  {
   "cell_type": "code",
   "execution_count": null,
   "metadata": {},
   "outputs": [],
   "source": [
    "test_acc"
   ]
  },
  {
   "cell_type": "code",
   "execution_count": null,
   "metadata": {},
   "outputs": [],
   "source": [
    "acc = np.zeros(NUM_ROUND+1)\n",
    "acc[0] = test_acc"
   ]
  },
  {
   "cell_type": "code",
   "execution_count": null,
   "metadata": {},
   "outputs": [],
   "source": [
    "len(acc)"
   ]
  },
  {
   "cell_type": "code",
   "execution_count": null,
   "metadata": {},
   "outputs": [],
   "source": [
    "for rd in range(1, NUM_ROUND+1):\n",
    "\n",
    "    if rd%2==0:\n",
    "        # Al_methods\n",
    "        print('Round {}/{}'.format(rd, NUM_ROUND), flush=True)\n",
    "        labeled = len(np.arange(n_pool)[idxs_lb])\n",
    "        if NUM_QUERY > int(nEnd*n_pool/100) - labeled:\n",
    "            NUM_QUERY = int(nEnd*n_pool/100) - labeled\n",
    "            \n",
    "        # query\n",
    "        ts = time.time()\n",
    "        output = framework_2.stratAl.query(NUM_QUERY)\n",
    "        q_idxs = output\n",
    "        idxs_lb[q_idxs] = True\n",
    "        te = time.time()\n",
    "        tp = te - ts\n",
    "        \n",
    "        # update\n",
    "        framework_2.update(idxs_lb)\n",
    "        best_test_acc = framework_2.train(alpha=2e-3, n_epoch=10)\n",
    "\n",
    "        t_iter = time.time() - ts\n",
    "        \n",
    "        # round accuracy\n",
    "        # test_acc = strategy.predict(X_te, Y_te)\n",
    "        acc[rd] = best_test_acc\n",
    "    else:\n",
    "        #SSL methods\n",
    "        \n",
    "        print('Round {}/{}'.format(rd, NUM_ROUND), flush=True)\n",
    "        labeled = len(np.arange(n_pool)[idxs_lb])\n",
    "        if NUM_QUERY > int(nEnd*n_pool/100) - labeled:\n",
    "            NUM_QUERY = int(nEnd*n_pool/100) - labeled\n",
    "            \n",
    "        # query\n",
    "        ts = time.time()\n",
    "\n",
    "        output = framework_2.stratSSL.query(NUM_QUERY)\n",
    "        q_idxs = output\n",
    "        idxs_lb[q_idxs] = True\n",
    "        te = time.time()\n",
    "        tp = te - ts\n",
    "        \n",
    "        # update\n",
    "        framework_2.update(idxs_lb)\n",
    "        best_test_acc = framework_2.stratSSL.train(alpha=2e-3, n_epoch=10)\n",
    "\n",
    "        t_iter = time.time() - ts\n",
    "        \n",
    "        # round accuracy\n",
    "        # test_acc = strategy.predict(X_te, Y_te)\n",
    "        acc[rd] = best_test_acc\n"
   ]
  },
  {
   "cell_type": "code",
   "execution_count": null,
   "metadata": {},
   "outputs": [],
   "source": [
    "acc"
   ]
  },
  {
   "cell_type": "code",
   "execution_count": null,
   "metadata": {},
   "outputs": [],
   "source": [
    "import gc"
   ]
  },
  {
   "cell_type": "code",
   "execution_count": null,
   "metadata": {},
   "outputs": [],
   "source": [
    "gc.collect()"
   ]
  }
 ],
 "metadata": {
  "kernelspec": {
   "display_name": "base",
   "language": "python",
   "name": "python3"
  },
  "language_info": {
   "codemirror_mode": {
    "name": "ipython",
    "version": 3
   },
   "file_extension": ".py",
   "mimetype": "text/x-python",
   "name": "python",
   "nbconvert_exporter": "python",
   "pygments_lexer": "ipython3",
   "version": "3.10.9"
  },
  "orig_nbformat": 4
 },
 "nbformat": 4,
 "nbformat_minor": 2
}
