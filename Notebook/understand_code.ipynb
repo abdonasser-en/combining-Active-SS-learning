{
 "cells": [
  {
   "cell_type": "code",
   "execution_count": 1,
   "metadata": {},
   "outputs": [
    {
     "name": "stderr",
     "output_type": "stream",
     "text": [
      "/home/nasserali/anaconda3/lib/python3.10/site-packages/tqdm/auto.py:21: TqdmWarning: IProgress not found. Please update jupyter and ipywidgets. See https://ipywidgets.readthedocs.io/en/stable/user_install.html\n",
      "  from .autonotebook import tqdm as notebook_tqdm\n"
     ]
    }
   ],
   "source": [
    "import numpy as np\n",
    "import torch\n",
    "from preprocess.dataset import get_MNIST,get_dataset,get_handler\n",
    "from models.model import Model\n",
    "from al_methods.least_confidence import LeastConfidence\n",
    "from al_methods.entropy_sampling import EntropySampling\n",
    "from al_methods.batch_BALD import BatchBALD\n",
    "from al_methods.core_set import CoreSet\n",
    "from ssl_methods.semi_fixmatch import fixmatch\n",
    "from ssl_methods.semi_flexmatch import flexmatch\n",
    "from ssl_methods.semi_pseudolabel import pseudolabel\n",
    "import models\n",
    "from torchvision import transforms\n",
    "from framework.framework1 import Framework1\n",
    "import framework\n",
    "import torch.nn as nn\n",
    "import time\n",
    "from torch.utils.data import DataLoader\n",
    "from scipy.spatial.distance import jensenshannon\n",
    "import al_methods\n",
    "import os\n",
    "import seaborn as sns \n",
    "import matplotlib\n",
    "matplotlib.use('TkAgg')\n",
    "import matplotlib.pyplot as plt\n",
    "sns.set_theme()"
   ]
  },
  {
   "cell_type": "markdown",
   "metadata": {},
   "source": [
    "### Data Configuration"
   ]
  },
  {
   "cell_type": "code",
   "execution_count": 2,
   "metadata": {},
   "outputs": [],
   "source": [
    "args_pool = {'mnist':\n",
    "                { \n",
    "                 'n_class':10,\n",
    "                 'channels':1,\n",
    "                 'size': 28,\n",
    "                 'transform_tr': transforms.Compose([\n",
    "                                transforms.RandomHorizontalFlip(),\n",
    "                                transforms.ToTensor(), \n",
    "                                transforms.Normalize((0.1307,), (0.3081,))]),\n",
    "                 'transform_te': transforms.Compose([transforms.ToTensor(), \n",
    "                                transforms.Normalize((0.1307,), (0.3081,))]),\n",
    "                 'loader_tr_args':{'batch_size': 128, 'num_workers': 8},\n",
    "                 'loader_te_args':{'batch_size': 1024, 'num_workers': 8},\n",
    "                 'normalize':{'mean': (0.1307,), 'std': (0.3081,)},\n",
    "                },\n",
    "\n",
    "            'svhn':\n",
    "                {\n",
    "                 'n_class':10,\n",
    "                'channels':3,\n",
    "                'size': 32,\n",
    "                'transform_tr': transforms.Compose([ \n",
    "                                    transforms.RandomCrop(size = 32, padding=4),\n",
    "                                    transforms.RandomHorizontalFlip(),\n",
    "                                    transforms.ToTensor(),\n",
    "                                    transforms.Normalize((0.4377, 0.4438, 0.4728), (0.1980, 0.2010, 0.1970))]),\n",
    "                 'transform_te': transforms.Compose([transforms.ToTensor(), \n",
    "                                    transforms.Normalize((0.4377, 0.4438, 0.4728), (0.1980, 0.2010, 0.1970))]),\n",
    "                 'loader_tr_args':{'batch_size': 128, 'num_workers': 8},\n",
    "                 'loader_te_args':{'batch_size': 1024, 'num_workers': 8},\n",
    "                 'normalize':{'mean': (0.4377, 0.4438, 0.4728), 'std': (0.1980, 0.2010, 0.1970)},\n",
    "                },\n",
    "            'cifar10':\n",
    "                {\n",
    "                 'n_class':10,\n",
    "                 'channels':3,\n",
    "                 'size': 32,\n",
    "                 'transform_tr': transforms.Compose([\n",
    "                                    transforms.RandomCrop(size = 32, padding=4),\n",
    "                                    transforms.RandomHorizontalFlip(),\n",
    "                                    transforms.ToTensor(), \n",
    "                                    transforms.Normalize((0.4914, 0.4822, 0.4465), (0.2470, 0.2435, 0.2616))]),\n",
    "                 'transform_te': transforms.Compose([transforms.ToTensor(), \n",
    "                                    transforms.Normalize((0.4914, 0.4822, 0.4465), (0.2470, 0.2435, 0.2616))]),\n",
    "                 'loader_tr_args':{'batch_size': 256, 'num_workers': 8},\n",
    "                 'loader_te_args':{'batch_size': 512, 'num_workers': 8},\n",
    "                 'normalize':{'mean': (0.4914, 0.4822, 0.4465), 'std': (0.2470, 0.2435, 0.2616)},\n",
    "                 },\n",
    "\n",
    "\n",
    "            'cifar100': \n",
    "               {\n",
    "                'n_class':100,\n",
    "                'channels':3,\n",
    "                'size': 32,\n",
    "                'transform_tr': transforms.Compose([\n",
    "                                transforms.RandomCrop(size = 32, padding=4),\n",
    "                                transforms.RandomHorizontalFlip(),\n",
    "                                transforms.ToTensor(), \n",
    "                                transforms.Normalize((0.5071, 0.4867, 0.4408), (0.2675, 0.2565, 0.2761))]),\n",
    "                'transform_te': transforms.Compose([transforms.ToTensor(), \n",
    "                                transforms.Normalize((0.5071, 0.4867, 0.4408), (0.2675, 0.2565, 0.2761))]),\n",
    "                'loader_tr_args':{'batch_size': 2048, 'num_workers': 4},\n",
    "                'loader_te_args':{'batch_size': 512, 'num_workers': 8},\n",
    "                'normalize':{'mean': (0.5071, 0.4867, 0.4408), 'std': (0.2675, 0.2565, 0.2761)},\n",
    "                }\n",
    "        }"
   ]
  },
  {
   "cell_type": "markdown",
   "metadata": {},
   "source": [
    "### Dataset"
   ]
  },
  {
   "cell_type": "code",
   "execution_count": 3,
   "metadata": {},
   "outputs": [],
   "source": [
    "# in the main \n",
    "X_tr, Y_tr, X_te, Y_te = get_dataset(\"Mnist\", \"./datasets\")"
   ]
  },
  {
   "cell_type": "code",
   "execution_count": 4,
   "metadata": {},
   "outputs": [],
   "source": [
    "# in the main \n",
    "if type(X_tr) is list:\n",
    "    X_tr = np.array(X_tr)\n",
    "    Y_tr = torch.tensor(np.array(Y_tr))\n",
    "    X_te = np.array(X_te)\n",
    "    Y_te = torch.tensor(np.array(Y_te))\n",
    "\n",
    "if type(X_tr[0]) is not np.ndarray:\n",
    "    X_tr = X_tr.numpy()\n",
    "    X_te = X_te.numpy()"
   ]
  },
  {
   "cell_type": "code",
   "execution_count": 5,
   "metadata": {},
   "outputs": [
    {
     "name": "stdout",
     "output_type": "stream",
     "text": [
      "begin with :  600  Number of round 5  How many to query 600\n"
     ]
    }
   ],
   "source": [
    "# in the main\n",
    "n_pool = len(Y_tr)\n",
    "n_test = len(Y_te)\n",
    "#in the main\n",
    "handler = get_handler(\"mnist\")\n",
    "# main or framewrok to see\n",
    "nEnd=6 # total number to query \n",
    "nQuery=1 # nombre of points to query in batch \n",
    "nStart=1 # nbre of points to start\n",
    "NUM_INIT_LB = int(nStart*n_pool/100)\n",
    "NUM_QUERY = int(nQuery*n_pool/100) if nStart!= 100 else 0\n",
    "NUM_ROUND = int((int(nEnd*n_pool/100) - NUM_INIT_LB)/ NUM_QUERY) if nStart!= 100 else 0\n",
    "if NUM_QUERY != 0:\n",
    "    if (int(nEnd*n_pool/100) - NUM_INIT_LB)% NUM_QUERY != 0:\n",
    "        NUM_ROUND += 1\n",
    "print(\"begin with : \",NUM_INIT_LB,\" Number of round\",NUM_ROUND,\" How many to query\",NUM_QUERY)\n"
   ]
  },
  {
   "cell_type": "code",
   "execution_count": 6,
   "metadata": {},
   "outputs": [
    {
     "data": {
      "text/plain": [
       "array([False, False, False, ..., False, False, False])"
      ]
     },
     "execution_count": 6,
     "metadata": {},
     "output_type": "execute_result"
    }
   ],
   "source": [
    "# in the main file\n",
    "idxs_lb = np.zeros(n_pool, dtype=bool)\n",
    "idxs_lb\n",
    "# in the main file \n",
    "idxs_tmp = np.arange(n_pool)\n",
    "idxs_tmp\n",
    "np.random.shuffle(idxs_tmp)\n",
    "idxs_tmp\n",
    "# in the main file\n",
    "idxs_lb[idxs_tmp[:NUM_INIT_LB]] = True\n",
    "idxs_lb"
   ]
  },
  {
   "cell_type": "markdown",
   "metadata": {},
   "source": [
    "### Models"
   ]
  },
  {
   "cell_type": "code",
   "execution_count": 7,
   "metadata": {},
   "outputs": [],
   "source": [
    "model=models.__dict__[\"ResNet50\"](n_class=args_pool['mnist']['n_class'])"
   ]
  },
  {
   "cell_type": "code",
   "execution_count": 8,
   "metadata": {},
   "outputs": [],
   "source": [
    "model.feature_extractor.conv1=torch.nn.Conv2d(args_pool['mnist']['channels'],16,kernel_size=3,stride=1,padding=1,bias=False)\n",
    "model.discriminator.dis_fc2=torch.nn.Linear(in_features=50,out_features=args_pool['mnist']['n_class'],bias=True)"
   ]
  },
  {
   "cell_type": "markdown",
   "metadata": {},
   "source": [
    "### Test methods "
   ]
  },
  {
   "cell_type": "code",
   "execution_count": 9,
   "metadata": {},
   "outputs": [],
   "source": [
    "class Args:\n",
    "    def __init__(self,n_class,img_size,channels,transform_tr,transform_te,loader_tr_args,loader_te_args,normalize):\n",
    "        self.n_class=n_class\n",
    "        self.img_size=img_size\n",
    "        self.channels=channels\n",
    "        self.transform_tr=transform_tr\n",
    "        self.transform_te=transform_te\n",
    "        self.loader_tr_args=loader_tr_args\n",
    "        self.loader_te_args=loader_te_args\n",
    "        self.normalize=normalize\n",
    "        self.dataset='mnist'\n",
    "        self.save_path='./save'\n",
    "        self.model='ResNet50'\n",
    "        self.lr=0.1\n",
    "        self.schedule = [20, 40]\n",
    "        self.momentum=0.9\n",
    "        self.gammas=[0.1,0.1]\n",
    "        self.framework='framwork1'\n",
    "        self.optimizer='SGD'\n",
    "        self.save_model=False\n",
    "        self.ALstrat='LeastConfidence'\n",
    "        self.SSLstrat='fixmatch'\n",
    "        self.n_epoch=10"
   ]
  },
  {
   "cell_type": "code",
   "execution_count": 10,
   "metadata": {},
   "outputs": [],
   "source": [
    "dataset_args = args_pool[\"mnist\"]\n",
    "n_class = dataset_args['n_class']\n",
    "img_size = dataset_args['size']\n",
    "channels = dataset_args['channels']\n",
    "transform_tr = dataset_args['transform_tr']\n",
    "transform_te = dataset_args['transform_te']\n",
    "loader_tr_args = dataset_args['loader_tr_args']\n",
    "loader_te_args = dataset_args['loader_te_args']\n",
    "normalize = dataset_args['normalize']"
   ]
  },
  {
   "cell_type": "code",
   "execution_count": 11,
   "metadata": {},
   "outputs": [],
   "source": [
    "args=Args(n_class,img_size,channels,transform_tr,transform_te,loader_tr_args,loader_te_args,normalize)"
   ]
  },
  {
   "cell_type": "code",
   "execution_count": 12,
   "metadata": {},
   "outputs": [],
   "source": [
    "framework_1= Framework1(X_tr, Y_tr, X_te, Y_te, idxs_lb, model, handler, args)"
   ]
  },
  {
   "cell_type": "code",
   "execution_count": 13,
   "metadata": {},
   "outputs": [
    {
     "name": "stdout",
     "output_type": "stream",
     "text": [
      "Let's use 1 GPUs!\n",
      "[Batch=000] [Loss=2.46]\n",
      "\n",
      "==>>[2023-08-29 08:27:06] [Epoch=000/005] [framwork1(LeastConfidence+fixmatch) Need: 00:00:00] [LR=0.1000] [Best : Test Accuracy=0.00, Error=1.00]\n",
      "[Batch=000] [Loss=2.70]\n",
      "\n",
      "==>>[2023-08-29 08:27:15] [Epoch=001/005] [framwork1(LeastConfidence+fixmatch) Need: 00:00:45] [LR=0.1000] [Best : Test Accuracy=0.10, Error=0.90]\n",
      "[Batch=000] [Loss=2.24]\n",
      "\n",
      "==>>[2023-08-29 08:27:24] [Epoch=002/005] [framwork1(LeastConfidence+fixmatch) Need: 00:00:30] [LR=0.1000] [Best : Test Accuracy=0.10, Error=0.90]\n",
      "[Batch=000] [Loss=1.99]\n",
      "\n",
      "==>>[2023-08-29 08:27:32] [Epoch=003/005] [framwork1(LeastConfidence+fixmatch) Need: 00:00:19] [LR=0.1000] [Best : Test Accuracy=0.10, Error=0.90]\n",
      "[Batch=000] [Loss=1.57]\n",
      "\n",
      "==>>[2023-08-29 08:27:41] [Epoch=004/005] [framwork1(LeastConfidence+fixmatch) Need: 00:00:09] [LR=0.1000] [Best : Test Accuracy=0.10, Error=0.90]\n",
      "---- save figure the accuracy/loss curve of train/val into ./save/mnist\n"
     ]
    },
    {
     "data": {
      "text/plain": [
       "0.1688"
      ]
     },
     "execution_count": 13,
     "metadata": {},
     "output_type": "execute_result"
    }
   ],
   "source": [
    "framework_1.train(alpha=2e-3,n_epoch=5)"
   ]
  },
  {
   "cell_type": "markdown",
   "metadata": {},
   "source": [
    "### Data Augmentation"
   ]
  },
  {
   "cell_type": "code",
   "execution_count": 14,
   "metadata": {},
   "outputs": [],
   "source": [
    "# Create a weakly data augmentation transform\n",
    "weak_transform = transforms.Compose([\n",
    "    # transforms.RandomCrop(14),\n",
    "    transforms.RandomHorizontalFlip(),\n",
    "    transforms.ToTensor()\n",
    "])\n",
    "\n",
    "# Create a strongly data augmentation transform\n",
    "strong_transform = transforms.Compose([\n",
    "    transforms.ColorJitter(brightness=0.2, contrast=0.2, saturation=0.2, hue=0.1),\n",
    "    transforms.GaussianBlur(kernel_size=(5, 5), sigma=(0.1, 0.1)),\n",
    "    transforms.RandomPerspective(),\n",
    "    transforms.ToTensor()\n",
    "])\n"
   ]
  },
  {
   "cell_type": "markdown",
   "metadata": {},
   "source": [
    "### Apply on data"
   ]
  },
  {
   "cell_type": "markdown",
   "metadata": {},
   "source": [
    "#### Unlabeled data"
   ]
  },
  {
   "cell_type": "code",
   "execution_count": 15,
   "metadata": {},
   "outputs": [],
   "source": [
    "# Find indices where the boolean matrix is False\n",
    "false_indices = np.argwhere(framework_1.idxs_lb == False).squeeze()\n",
    "\n",
    "U_X_tr=X_tr[false_indices]\n",
    "U_Y_tr=Y_tr[false_indices]\n",
    "\n",
    "unlabeled_data_weak=DataLoader(handler(U_X_tr,U_Y_tr,transform=weak_transform),batch_size=64)\n",
    "unlabeled_data_strong=DataLoader(handler(U_X_tr,U_Y_tr,transform=strong_transform),batch_size=64)"
   ]
  },
  {
   "cell_type": "markdown",
   "metadata": {},
   "source": [
    "### Train weakly"
   ]
  },
  {
   "cell_type": "code",
   "execution_count": 33,
   "metadata": {},
   "outputs": [],
   "source": [
    "model_weak=framework_1.model.eval()\n",
    "predictions_weak = []\n",
    "y_true=[]\n",
    "with torch.no_grad():\n",
    "    for x, y,_ in unlabeled_data_weak:\n",
    "        # Move the batch to the appropriate device (CPU or GPU)\n",
    "        x= x.to(framework_1.device)  # device could be 'cuda' or 'cpu'\n",
    "        y= y.to(framework_1.device)\n",
    "        y_true.append(y.cpu().numpy())\n",
    "        # Forward pass to obtain predictions\n",
    "        batch_predictions,_= model_weak(x)\n",
    "        \n",
    "        # Append batch predictions to the list\n",
    "        predictions_weak.append(batch_predictions.cpu().numpy())  # Move predictions to CPU and convert to numpy\n",
    "\n",
    "# Concatenate predictions from all batches\n",
    "predictions_weak = np.concatenate(predictions_weak, axis=0)\n"
   ]
  },
  {
   "cell_type": "markdown",
   "metadata": {},
   "source": [
    "### Train strongly"
   ]
  },
  {
   "cell_type": "code",
   "execution_count": 28,
   "metadata": {},
   "outputs": [],
   "source": [
    "#Strong aug train\n",
    "model_strong=framework_1.model.eval()\n",
    "predictions_strong = []\n",
    "with torch.no_grad():\n",
    "    for x, _,_ in unlabeled_data_strong:\n",
    "        # Move the batch to the appropriate device (CPU or GPU)\n",
    "        x= x.to(framework_1.device)  # device could be 'cuda' or 'cpu'\n",
    "        \n",
    "        # Forward pass to obtain predictions\n",
    "        batch_predictions,_ = model_strong(x)\n",
    "        \n",
    "        # Append batch predictions to the list\n",
    "        predictions_strong.append(batch_predictions.cpu().numpy())  # Move predictions to CPU and convert to numpy\n",
    "\n",
    "# Concatenate predictions from all batches\n",
    "predictions_strong = np.concatenate(predictions_strong, axis=0)\n"
   ]
  },
  {
   "cell_type": "code",
   "execution_count": 29,
   "metadata": {},
   "outputs": [
    {
     "data": {
      "text/plain": [
       "array([[ 0.6336532 , 18.292686  ,  8.283445  , ..., 14.054209  ,\n",
       "         5.446602  ,  9.29574   ],\n",
       "       [ 0.62113285, 18.12209   ,  8.214174  , ..., 13.9443035 ,\n",
       "         5.3892994 ,  9.214708  ],\n",
       "       [ 0.63561743, 18.30967   ,  8.291466  , ..., 14.066608  ,\n",
       "         5.4533997 ,  9.303816  ],\n",
       "       ...,\n",
       "       [ 0.6276991 , 18.195902  ,  8.242558  , ..., 13.99092   ,\n",
       "         5.4155965 ,  9.250857  ],\n",
       "       [ 0.6313265 , 18.240788  ,  8.261713  , ..., 14.021614  ,\n",
       "         5.430856  ,  9.27487   ],\n",
       "       [ 0.6363763 , 18.323977  ,  8.297624  , ..., 14.075201  ,\n",
       "         5.457615  ,  9.309856  ]], dtype=float32)"
      ]
     },
     "execution_count": 29,
     "metadata": {},
     "output_type": "execute_result"
    }
   ],
   "source": [
    "predictions_strong"
   ]
  },
  {
   "cell_type": "code",
   "execution_count": 30,
   "metadata": {},
   "outputs": [
    {
     "data": {
      "text/plain": [
       "array([1, 1, 1, ..., 1, 1, 1])"
      ]
     },
     "execution_count": 30,
     "metadata": {},
     "output_type": "execute_result"
    }
   ],
   "source": [
    "np.argmax(predictions_strong,axis=1)"
   ]
  },
  {
   "cell_type": "markdown",
   "metadata": {},
   "source": [
    "#### True predictions"
   ]
  },
  {
   "cell_type": "code",
   "execution_count": 37,
   "metadata": {},
   "outputs": [],
   "source": [
    "m=np.argmax(predictions_strong,axis=1)-np.concatenate(y_true,axis=0)"
   ]
  },
  {
   "cell_type": "code",
   "execution_count": 42,
   "metadata": {},
   "outputs": [
    {
     "data": {
      "text/plain": [
       "0"
      ]
     },
     "execution_count": 42,
     "metadata": {},
     "output_type": "execute_result"
    }
   ],
   "source": [
    "m[3]"
   ]
  },
  {
   "cell_type": "code",
   "execution_count": 43,
   "metadata": {},
   "outputs": [
    {
     "data": {
      "text/plain": [
       "(6683,)"
      ]
     },
     "execution_count": 43,
     "metadata": {},
     "output_type": "execute_result"
    }
   ],
   "source": [
    "np.where(m==0)[0].shape"
   ]
  },
  {
   "cell_type": "code",
   "execution_count": 34,
   "metadata": {},
   "outputs": [],
   "source": [
    "# np.save('predictions_strong.np',predictions_strong)\n",
    "# np.save('predictions_weak.npy',predictions_weak)"
   ]
  },
  {
   "cell_type": "code",
   "execution_count": 16,
   "metadata": {},
   "outputs": [],
   "source": [
    "predictions_weak=np.load('predictions_weak.npy')\n",
    "predictions_strong=np.load('predictions_strong.np.npy')"
   ]
  },
  {
   "cell_type": "markdown",
   "metadata": {},
   "source": [
    "#### labaled data"
   ]
  },
  {
   "cell_type": "code",
   "execution_count": 17,
   "metadata": {},
   "outputs": [],
   "source": [
    "true_indices = np.argwhere(framework_1.idxs_lb == True).squeeze()\n",
    "L_X_tr=X_tr[true_indices]\n",
    "L_Y_tr=Y_tr[true_indices]\n",
    "\n",
    "labeled_data_weak=DataLoader(handler(L_X_tr,L_Y_tr,transform=weak_transform),batch_size=32)\n",
    "labeled_data_strong=DataLoader(handler(L_X_tr,L_Y_tr,transform=strong_transform),batch_size=32)"
   ]
  },
  {
   "cell_type": "code",
   "execution_count": 18,
   "metadata": {},
   "outputs": [
    {
     "data": {
      "text/plain": [
       "(600, 28, 28)"
      ]
     },
     "execution_count": 18,
     "metadata": {},
     "output_type": "execute_result"
    }
   ],
   "source": [
    "L_X_tr.shape"
   ]
  },
  {
   "cell_type": "code",
   "execution_count": 19,
   "metadata": {},
   "outputs": [
    {
     "name": "stdout",
     "output_type": "stream",
     "text": [
      "torch.Size([32, 1, 28, 28])\n",
      "x:  torch.Size([32, 1, 28, 28])\n",
      "out:  torch.Size([32, 512])\n",
      "emb:  torch.Size([32, 512])\n",
      "torch.Size([32, 1, 28, 28])\n",
      "x:  torch.Size([32, 1, 28, 28])\n",
      "out:  torch.Size([32, 512])\n",
      "emb:  torch.Size([32, 512])\n",
      "torch.Size([32, 1, 28, 28])\n",
      "x:  torch.Size([32, 1, 28, 28])\n",
      "out:  torch.Size([32, 512])\n",
      "emb:  torch.Size([32, 512])\n",
      "torch.Size([32, 1, 28, 28])\n",
      "x:  torch.Size([32, 1, 28, 28])\n",
      "out:  torch.Size([32, 512])\n",
      "emb:  torch.Size([32, 512])\n",
      "torch.Size([32, 1, 28, 28])\n",
      "x:  torch.Size([32, 1, 28, 28])\n",
      "out:  torch.Size([32, 512])\n",
      "emb:  torch.Size([32, 512])\n",
      "torch.Size([32, 1, 28, 28])\n",
      "x:  torch.Size([32, 1, 28, 28])\n",
      "out:  torch.Size([32, 512])\n",
      "emb:  torch.Size([32, 512])\n",
      "torch.Size([32, 1, 28, 28])\n",
      "x:  torch.Size([32, 1, 28, 28])\n",
      "out:  torch.Size([32, 512])\n",
      "emb:  torch.Size([32, 512])\n",
      "torch.Size([32, 1, 28, 28])\n",
      "x:  torch.Size([32, 1, 28, 28])\n",
      "out:  torch.Size([32, 512])\n",
      "emb:  torch.Size([32, 512])\n",
      "torch.Size([32, 1, 28, 28])\n",
      "x:  torch.Size([32, 1, 28, 28])\n",
      "out:  torch.Size([32, 512])\n",
      "emb:  torch.Size([32, 512])\n",
      "torch.Size([32, 1, 28, 28])\n",
      "x:  torch.Size([32, 1, 28, 28])\n",
      "out:  torch.Size([32, 512])\n",
      "emb:  torch.Size([32, 512])\n",
      "torch.Size([32, 1, 28, 28])\n",
      "x:  torch.Size([32, 1, 28, 28])\n",
      "out:  torch.Size([32, 512])\n",
      "emb:  torch.Size([32, 512])\n",
      "torch.Size([32, 1, 28, 28])\n",
      "x:  torch.Size([32, 1, 28, 28])\n",
      "out:  torch.Size([32, 512])\n",
      "emb:  torch.Size([32, 512])\n",
      "torch.Size([32, 1, 28, 28])\n",
      "x:  torch.Size([32, 1, 28, 28])\n",
      "out:  torch.Size([32, 512])\n",
      "emb:  torch.Size([32, 512])\n",
      "torch.Size([32, 1, 28, 28])\n",
      "x:  torch.Size([32, 1, 28, 28])\n",
      "out:  torch.Size([32, 512])\n",
      "emb:  torch.Size([32, 512])\n",
      "torch.Size([32, 1, 28, 28])\n",
      "x:  torch.Size([32, 1, 28, 28])\n",
      "out:  torch.Size([32, 512])\n",
      "emb:  torch.Size([32, 512])\n",
      "torch.Size([32, 1, 28, 28])\n",
      "x:  torch.Size([32, 1, 28, 28])\n",
      "out:  torch.Size([32, 512])\n",
      "emb:  torch.Size([32, 512])\n",
      "torch.Size([32, 1, 28, 28])\n",
      "x:  torch.Size([32, 1, 28, 28])\n",
      "out:  torch.Size([32, 512])\n",
      "emb:  torch.Size([32, 512])\n",
      "torch.Size([32, 1, 28, 28])\n",
      "x:  torch.Size([32, 1, 28, 28])\n",
      "out:  torch.Size([32, 512])\n",
      "emb:  torch.Size([32, 512])\n",
      "torch.Size([24, 1, 28, 28])\n",
      "x:  torch.Size([24, 1, 28, 28])\n",
      "out:  torch.Size([24, 512])\n",
      "emb:  torch.Size([24, 512])\n"
     ]
    }
   ],
   "source": [
    "model_weak=framework_1.model.eval()\n",
    "predictions_weak_l = []\n",
    "with torch.no_grad():\n",
    "    for x, _,_ in labeled_data_weak:\n",
    "        # Move the batch to the appropriate device (CPU or GPU)\n",
    "        x= x.to(framework_1.device)  # device could be 'cuda' or 'cpu'\n",
    "        print(x.shape)\n",
    "        \n",
    "        # Forward pass to obtain predictions\n",
    "        batch_predictions,_= model_weak(x)\n",
    "        \n",
    "        # Append batch predictions to the list\n",
    "        predictions_weak_l.append(batch_predictions.cpu().numpy())  # Move predictions to CPU and convert to numpy\n",
    "\n",
    "# Concatenate predictions from all batches\n",
    "predictions_weak_l = np.concatenate(predictions_weak_l, axis=0)\n"
   ]
  },
  {
   "cell_type": "code",
   "execution_count": 20,
   "metadata": {},
   "outputs": [
    {
     "name": "stdout",
     "output_type": "stream",
     "text": [
      "x:  torch.Size([32, 1, 28, 28])\n",
      "out:  torch.Size([32, 512])\n",
      "emb:  torch.Size([32, 512])\n",
      "x:  torch.Size([32, 1, 28, 28])\n",
      "out:  torch.Size([32, 512])\n",
      "emb:  torch.Size([32, 512])\n",
      "x:  torch.Size([32, 1, 28, 28])\n",
      "out:  torch.Size([32, 512])\n",
      "emb:  torch.Size([32, 512])\n",
      "x:  torch.Size([32, 1, 28, 28])\n",
      "out:  torch.Size([32, 512])\n",
      "emb:  torch.Size([32, 512])\n",
      "x:  torch.Size([32, 1, 28, 28])\n",
      "out:  torch.Size([32, 512])\n",
      "emb:  torch.Size([32, 512])\n",
      "x:  torch.Size([32, 1, 28, 28])\n",
      "out:  torch.Size([32, 512])\n",
      "emb:  torch.Size([32, 512])\n",
      "x:  torch.Size([32, 1, 28, 28])\n",
      "out:  torch.Size([32, 512])\n",
      "emb:  torch.Size([32, 512])\n",
      "x:  torch.Size([32, 1, 28, 28])\n",
      "out:  torch.Size([32, 512])\n",
      "emb:  torch.Size([32, 512])\n",
      "x:  torch.Size([32, 1, 28, 28])\n",
      "out:  torch.Size([32, 512])\n",
      "emb:  torch.Size([32, 512])\n",
      "x:  torch.Size([32, 1, 28, 28])\n",
      "out:  torch.Size([32, 512])\n",
      "emb:  torch.Size([32, 512])\n",
      "x:  torch.Size([32, 1, 28, 28])\n",
      "out:  torch.Size([32, 512])\n",
      "emb:  torch.Size([32, 512])\n",
      "x:  torch.Size([32, 1, 28, 28])\n",
      "out:  torch.Size([32, 512])\n",
      "emb:  torch.Size([32, 512])\n",
      "x:  torch.Size([32, 1, 28, 28])\n",
      "out:  torch.Size([32, 512])\n",
      "emb:  torch.Size([32, 512])\n",
      "x:  torch.Size([32, 1, 28, 28])\n",
      "out:  torch.Size([32, 512])\n",
      "emb:  torch.Size([32, 512])\n",
      "x:  torch.Size([32, 1, 28, 28])\n",
      "out:  torch.Size([32, 512])\n",
      "emb:  torch.Size([32, 512])\n",
      "x:  torch.Size([32, 1, 28, 28])\n",
      "out:  torch.Size([32, 512])\n",
      "emb:  torch.Size([32, 512])\n",
      "x:  torch.Size([32, 1, 28, 28])\n",
      "out:  torch.Size([32, 512])\n",
      "emb:  torch.Size([32, 512])\n",
      "x:  torch.Size([32, 1, 28, 28])\n",
      "out:  torch.Size([32, 512])\n",
      "emb:  torch.Size([32, 512])\n",
      "x:  torch.Size([24, 1, 28, 28])\n",
      "out:  torch.Size([24, 512])\n",
      "emb:  torch.Size([24, 512])\n"
     ]
    }
   ],
   "source": [
    "#Strong aug train\n",
    "model_strong=framework_1.model.eval()\n",
    "predictions_strong_l = []\n",
    "with torch.no_grad():\n",
    "    for x, _,_ in labeled_data_strong:\n",
    "        # Move the batch to the appropriate device (CPU or GPU)\n",
    "        x= x.to(framework_1.device)  # device could be 'cuda' or 'cpu'\n",
    "        \n",
    "        # Forward pass to obtain predictions\n",
    "        batch_predictions,_ = model_strong(x)\n",
    "        \n",
    "        # Append batch predictions to the list\n",
    "        predictions_strong_l.append(batch_predictions.cpu().numpy())  # Move predictions to CPU and convert to numpy\n",
    "\n",
    "# Concatenate predictions from all batches\n",
    "predictions_strong_l = np.concatenate(predictions_strong_l, axis=0)\n"
   ]
  },
  {
   "cell_type": "markdown",
   "metadata": {},
   "source": [
    "### Stability"
   ]
  },
  {
   "cell_type": "markdown",
   "metadata": {},
   "source": [
    "#### unlabeled data"
   ]
  },
  {
   "cell_type": "code",
   "execution_count": 21,
   "metadata": {},
   "outputs": [
    {
     "name": "stderr",
     "output_type": "stream",
     "text": [
      "/home/nasserali/anaconda3/lib/python3.10/site-packages/scipy/spatial/distance.py:1300: RuntimeWarning: invalid value encountered in sqrt\n",
      "  return np.sqrt(js / 2.0)\n"
     ]
    }
   ],
   "source": [
    "jensen=jensenshannon(predictions_weak,predictions_strong,axis=1)\n",
    "# np.max(predictions_weak,axis=1)\n",
    "# 0.5*(np.max(predictions_weak,axis=1)+np.max(predictions_strong,axis=1))\n",
    "tot=(1-jensen ) *0.5*(np.max(predictions_weak,axis=1)+np.max(predictions_strong,axis=1))"
   ]
  },
  {
   "cell_type": "code",
   "execution_count": 22,
   "metadata": {},
   "outputs": [
    {
     "data": {
      "text/plain": [
       "(59400,)"
      ]
     },
     "execution_count": 22,
     "metadata": {},
     "output_type": "execute_result"
    }
   ],
   "source": [
    "jensen.shape"
   ]
  },
  {
   "cell_type": "code",
   "execution_count": 32,
   "metadata": {},
   "outputs": [],
   "source": [
    "plt.figure(figsize=(10,8))\n",
    "sns.histplot(tot,kde=True)\n",
    "plt.show()"
   ]
  },
  {
   "cell_type": "markdown",
   "metadata": {},
   "source": [
    "#### labeled data"
   ]
  },
  {
   "cell_type": "code",
   "execution_count": 33,
   "metadata": {},
   "outputs": [
    {
     "name": "stderr",
     "output_type": "stream",
     "text": [
      "/home/nasserali/anaconda3/lib/python3.10/site-packages/scipy/spatial/distance.py:1300: RuntimeWarning: invalid value encountered in sqrt\n",
      "  return np.sqrt(js / 2.0)\n"
     ]
    }
   ],
   "source": [
    "jensen_l=jensenshannon(predictions_weak_l,predictions_strong_l,axis=1)\n",
    "# np.max(predictions_weak,axis=1)\n",
    "# 0.5*(np.max(predictions_weak,axis=1)+np.max(predictions_strong,axis=1))"
   ]
  },
  {
   "cell_type": "code",
   "execution_count": 34,
   "metadata": {},
   "outputs": [
    {
     "data": {
      "text/plain": [
       "(600,)"
      ]
     },
     "execution_count": 34,
     "metadata": {},
     "output_type": "execute_result"
    }
   ],
   "source": [
    "jensen_l.shape"
   ]
  },
  {
   "cell_type": "code",
   "execution_count": 26,
   "metadata": {},
   "outputs": [
    {
     "data": {
      "text/plain": [
       "(600,)"
      ]
     },
     "execution_count": 26,
     "metadata": {},
     "output_type": "execute_result"
    }
   ],
   "source": [
    "np.max(predictions_weak_l,axis=1).shape"
   ]
  },
  {
   "cell_type": "code",
   "execution_count": 27,
   "metadata": {},
   "outputs": [
    {
     "data": {
      "text/plain": [
       "(600,)"
      ]
     },
     "execution_count": 27,
     "metadata": {},
     "output_type": "execute_result"
    }
   ],
   "source": [
    "np.max(predictions_strong_l,axis=1).shape"
   ]
  },
  {
   "cell_type": "code",
   "execution_count": 35,
   "metadata": {},
   "outputs": [],
   "source": [
    "tot_l=(1-jensen_l ) *0.5*(np.max(predictions_weak_l,axis=1)+np.max(predictions_strong_l,axis=1))"
   ]
  },
  {
   "cell_type": "code",
   "execution_count": 36,
   "metadata": {},
   "outputs": [],
   "source": [
    "plt.figure(figsize=(10,8))\n",
    "sns.histplot(tot_l,kde=True)\n",
    "plt.show()"
   ]
  },
  {
   "cell_type": "markdown",
   "metadata": {},
   "source": [
    "### put togeter"
   ]
  },
  {
   "cell_type": "code",
   "execution_count": 30,
   "metadata": {},
   "outputs": [],
   "source": [
    "# Create a figure and array of subplots\n",
    "fig, axes = plt.subplots(1, 2, figsize=(10, 8))  # Change the number of subplots as needed"
   ]
  },
  {
   "cell_type": "code",
   "execution_count": 31,
   "metadata": {},
   "outputs": [],
   "source": [
    "# Plot the histograms using sns.histplot\n",
    "sns.histplot(tot, ax=axes[0], kde=True, color='blue', label='Data 1')\n",
    "axes[0].set_title('Histogram of Data 1')\n",
    "axes[0].legend()\n",
    "\n",
    "sns.histplot(tot_l, ax=axes[1], kde=True, color='orange', label='Data 2')\n",
    "axes[1].set_title('Histogram of Data 2')\n",
    "axes[1].legend()\n",
    "\n",
    "# Adjust layout and display the plot\n",
    "plt.tight_layout()\n",
    "plt.show()"
   ]
  },
  {
   "cell_type": "code",
   "execution_count": 37,
   "metadata": {},
   "outputs": [],
   "source": [
    "# Create a figure and array of subplots\n",
    "fig, ax = plt.subplots(figsize=(10, 8))  # Change the number of subplots as needed\n",
    "# Plot the histograms using sns.histplot\n",
    "sns.histplot(tot, ax=ax, kde=True, color='blue', label='Data 1')\n",
    "sns.histplot(tot_l, ax=ax, kde=True, color='orange', label='Data 2')\n",
    "\n",
    "\n",
    "# Set title, labels, and legend\n",
    "ax.set_title('Superposed Histograms')\n",
    "ax.set_xlabel('X-axis Label')\n",
    "ax.set_ylabel('Frequency')\n",
    "ax.legend()\n",
    "\n",
    "# Display the plot\n",
    "plt.tight_layout()\n",
    "plt.show()"
   ]
  },
  {
   "cell_type": "markdown",
   "metadata": {},
   "source": [
    "### Combination"
   ]
  },
  {
   "cell_type": "code",
   "execution_count": null,
   "metadata": {},
   "outputs": [],
   "source": [
    "print(f' Sratgey for active learning{args.ALstrat} and strategy for semi-supervised learning used {args.SSLstrat}')\n",
    "stratAl=LeastConfidence(framework_1.X_tr, framework_1.Y_tr, framework_1.X_te, framework_1.Y_te, framework_1.idxs_lb, framework_1.net, framework_1.handler, framework_1.args,framework_1.n_pool,framework_1.device)\n",
    "stratSSL=pseudolabel(framework_1.X_tr, framework_1.Y_tr, framework_1.X_te, framework_1.Y_te, framework_1.idxs_lb, framework_1.net, framework_1.handler, framework_1.args,framework_1.n_pool,framework_1.device,framework_1.predict,framework_1.g)\n",
    "\n",
    "\n",
    "test_acc=framework_1.predict(framework_1.X_te,framework_1.Y_te)\n",
    "acc = np.zeros(NUM_ROUND+1)\n",
    "acc[0] = test_acc\n",
    "\n",
    "for rd in range(1, NUM_ROUND+1):\n",
    "    \n",
    "    if rd%2==0:\n",
    "        # Al_methods\n",
    "        print('Round {}/{}'.format(rd, NUM_ROUND), flush=True)\n",
    "        labeled = len(np.arange(framework_1.n_pool)[framework_1.idxs_lb])\n",
    "        if NUM_QUERY > int(nEnd*framework_1.n_pool/100) - labeled:\n",
    "            NUM_QUERY = int(nEnd*framework_1.n_pool/100) - labeled\n",
    "            \n",
    "        # query\n",
    "        ts = time.time()\n",
    "        output = stratAl.query(NUM_QUERY)\n",
    "        q_idxs = output\n",
    "        framework_1.idxs_lb[q_idxs] = True\n",
    "        te = time.time()\n",
    "        tp = te - ts\n",
    "        \n",
    "        # update\n",
    "        framework_1.update(framework_1.idxs_lb)\n",
    "        if hasattr(stratAl, 'train'):\n",
    "        \n",
    "            best_test_acc=stratAl.train(alpha=2e-3, n_epoch=10)\n",
    "        else: best_test_acc = framework_1.train(alpha=2e-3, n_epoch=10)\n",
    "\n",
    "        t_iter = time.time() - ts\n",
    "        \n",
    "        # round accuracy\n",
    "        # test_acc = strategy.predict(X_te, Y_te)\n",
    "        acc[rd] = best_test_acc\n",
    "    else:\n",
    "        #SSL methods\n",
    "        \n",
    "        print('Round {}/{}'.format(rd, NUM_ROUND), flush=True)\n",
    "        labeled = len(np.arange(framework_1.n_pool)[framework_1.idxs_lb])\n",
    "        if NUM_QUERY > int(nEnd*framework_1.n_pool/100) - labeled:\n",
    "            NUM_QUERY = int(nEnd*framework_1.n_pool/100) - labeled\n",
    "            \n",
    "        # query\n",
    "        ts = time.time()\n",
    "\n",
    "        output = stratSSL.query(NUM_QUERY)\n",
    "        q_idxs = output\n",
    "        framework_1.idxs_lb[q_idxs] = True\n",
    "        te = time.time()\n",
    "        tp = te - ts\n",
    "        \n",
    "        # update\n",
    "        framework_1.update(framework_1.idxs_lb)\n",
    "        best_test_acc = stratSSL.train(alpha=2e-3, n_epoch=10)\n",
    "\n",
    "        t_iter = time.time() - ts\n",
    "        \n",
    "        # round accuracy\n",
    "        # test_acc = strategy.predict(X_te, Y_te)\n",
    "        acc[rd] = best_test_acc"
   ]
  },
  {
   "cell_type": "code",
   "execution_count": 43,
   "metadata": {},
   "outputs": [
    {
     "name": "stdout",
     "output_type": "stream",
     "text": [
      "[1 3 5]\n",
      "[10 30 50]\n"
     ]
    }
   ],
   "source": [
    "import numpy as np\n",
    "\n",
    "# Example data\n",
    "X_tr_t = np.array([1, 2, 3, 4, 5])\n",
    "Y_tr_t = np.array([10, 20, 30, 40, 50])\n",
    "false_indices_t = np.array([False, True, False, True, False])\n",
    "\n",
    "# # Check data types and boolean values\n",
    "# false_indices = bool(false_indices)\n",
    "\n",
    "# Filter using the boolean mask\n",
    "L_X_tr_t = X_tr_t[~false_indices_t]\n",
    "L_Y_tr_t = Y_tr_t[~false_indices_t]\n",
    "\n",
    "print(L_X_tr_t)  # Output: [2, 4]\n",
    "print(L_Y_tr_t)  # Output: [20, 40"
   ]
  }
 ],
 "metadata": {
  "kernelspec": {
   "display_name": "base",
   "language": "python",
   "name": "python3"
  },
  "language_info": {
   "codemirror_mode": {
    "name": "ipython",
    "version": 3
   },
   "file_extension": ".py",
   "mimetype": "text/x-python",
   "name": "python",
   "nbconvert_exporter": "python",
   "pygments_lexer": "ipython3",
   "version": "3.10.9"
  },
  "orig_nbformat": 4
 },
 "nbformat": 4,
 "nbformat_minor": 2
}
