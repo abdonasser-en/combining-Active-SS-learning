{
 "cells": [
  {
   "cell_type": "code",
   "execution_count": null,
   "metadata": {},
   "outputs": [],
   "source": [
    "import numpy as np\n",
    "import torch\n",
    "from preprocess.dataset import get_MNIST,get_dataset,get_handler\n",
    "from models.model import Model\n",
    "from al_methods.least_confidence import LeastConfidence\n",
    "from ssl_methods.semi_fixmatch import fixmatch\n",
    "import models\n",
    "from torchvision import transforms\n",
    "from framework.framework1 import Framework1\n",
    "import framework\n",
    "import torch.nn as nn\n",
    "import time\n",
    "from torch.utils.data import DataLoader\n",
    "from scipy.spatial.distance import jensenshannon\n",
    "import al_methods\n",
    "import os "
   ]
  },
  {
   "cell_type": "code",
   "execution_count": null,
   "metadata": {},
   "outputs": [],
   "source": [
    "args_pool = {'mnist':\n",
    "                { \n",
    "                 'n_class':10,\n",
    "                 'channels':1,\n",
    "                 'size': 28,\n",
    "                 'transform_tr': transforms.Compose([\n",
    "                                transforms.RandomHorizontalFlip(),\n",
    "                                transforms.ToTensor(), \n",
    "                                transforms.Normalize((0.1307,), (0.3081,))]),\n",
    "                 'transform_te': transforms.Compose([transforms.ToTensor(), \n",
    "                                transforms.Normalize((0.1307,), (0.3081,))]),\n",
    "                 'loader_tr_args':{'batch_size': 128, 'num_workers': 8},\n",
    "                 'loader_te_args':{'batch_size': 1024, 'num_workers': 8},\n",
    "                 'normalize':{'mean': (0.1307,), 'std': (0.3081,)},\n",
    "                },\n",
    "\n",
    "            'svhn':\n",
    "                {\n",
    "                 'n_class':10,\n",
    "                'channels':3,\n",
    "                'size': 32,\n",
    "                'transform_tr': transforms.Compose([ \n",
    "                                    transforms.RandomCrop(size = 32, padding=4),\n",
    "                                    transforms.RandomHorizontalFlip(),\n",
    "                                    transforms.ToTensor(),\n",
    "                                    transforms.Normalize((0.4377, 0.4438, 0.4728), (0.1980, 0.2010, 0.1970))]),\n",
    "                 'transform_te': transforms.Compose([transforms.ToTensor(), \n",
    "                                    transforms.Normalize((0.4377, 0.4438, 0.4728), (0.1980, 0.2010, 0.1970))]),\n",
    "                 'loader_tr_args':{'batch_size': 128, 'num_workers': 8},\n",
    "                 'loader_te_args':{'batch_size': 1024, 'num_workers': 8},\n",
    "                 'normalize':{'mean': (0.4377, 0.4438, 0.4728), 'std': (0.1980, 0.2010, 0.1970)},\n",
    "                },\n",
    "            'cifar10':\n",
    "                {\n",
    "                 'n_class':10,\n",
    "                 'channels':3,\n",
    "                 'size': 32,\n",
    "                 'transform_tr': transforms.Compose([\n",
    "                                    transforms.RandomCrop(size = 32, padding=4),\n",
    "                                    transforms.RandomHorizontalFlip(),\n",
    "                                    transforms.ToTensor(), \n",
    "                                    transforms.Normalize((0.4914, 0.4822, 0.4465), (0.2470, 0.2435, 0.2616))]),\n",
    "                 'transform_te': transforms.Compose([transforms.ToTensor(), \n",
    "                                    transforms.Normalize((0.4914, 0.4822, 0.4465), (0.2470, 0.2435, 0.2616))]),\n",
    "                 'loader_tr_args':{'batch_size': 256, 'num_workers': 8},\n",
    "                 'loader_te_args':{'batch_size': 512, 'num_workers': 8},\n",
    "                 'normalize':{'mean': (0.4914, 0.4822, 0.4465), 'std': (0.2470, 0.2435, 0.2616)},\n",
    "                 },\n",
    "\n",
    "\n",
    "            'cifar100': \n",
    "               {\n",
    "                'n_class':100,\n",
    "                'channels':3,\n",
    "                'size': 32,\n",
    "                'transform_tr': transforms.Compose([\n",
    "                                transforms.RandomCrop(size = 32, padding=4),\n",
    "                                transforms.RandomHorizontalFlip(),\n",
    "                                transforms.ToTensor(), \n",
    "                                transforms.Normalize((0.5071, 0.4867, 0.4408), (0.2675, 0.2565, 0.2761))]),\n",
    "                'transform_te': transforms.Compose([transforms.ToTensor(), \n",
    "                                transforms.Normalize((0.5071, 0.4867, 0.4408), (0.2675, 0.2565, 0.2761))]),\n",
    "                'loader_tr_args':{'batch_size': 2048, 'num_workers': 4},\n",
    "                'loader_te_args':{'batch_size': 512, 'num_workers': 8},\n",
    "                'normalize':{'mean': (0.5071, 0.4867, 0.4408), 'std': (0.2675, 0.2565, 0.2761)},\n",
    "                }\n",
    "        }"
   ]
  },
  {
   "cell_type": "code",
   "execution_count": null,
   "metadata": {},
   "outputs": [],
   "source": [
    "# in the main \n",
    "X_tr, Y_tr, X_te, Y_te = get_dataset(\"Mnist\", \"./datasets\")"
   ]
  },
  {
   "cell_type": "code",
   "execution_count": null,
   "metadata": {},
   "outputs": [],
   "source": [
    "# in the main \n",
    "if type(X_tr) is list:\n",
    "    X_tr = np.array(X_tr)\n",
    "    Y_tr = torch.tensor(np.array(Y_tr))\n",
    "    X_te = np.array(X_te)\n",
    "    Y_te = torch.tensor(np.array(Y_te))\n",
    "\n",
    "if type(X_tr[0]) is not np.ndarray:\n",
    "    X_tr = X_tr.numpy()\n",
    "    X_te = X_te.numpy()\n",
    "    "
   ]
  },
  {
   "cell_type": "code",
   "execution_count": null,
   "metadata": {},
   "outputs": [],
   "source": [
    "# in the main\n",
    "n_pool = len(Y_tr)\n",
    "n_test = len(Y_te)\n",
    "#in the main\n",
    "handler = get_handler(\"mnist\")\n",
    "# main or framewrok to see\n",
    "nEnd=50 # total number to query \n",
    "nQuery=1 # nombre of points to query in batch \n",
    "nStart=1 # nbre of points to start\n",
    "NUM_INIT_LB = int(nStart*n_pool/100)\n",
    "NUM_QUERY = int(nQuery*n_pool/100) if nStart!= 100 else 0\n",
    "NUM_ROUND = int((int(nEnd*n_pool/100) - NUM_INIT_LB)/ NUM_QUERY) if nStart!= 100 else 0\n",
    "if NUM_QUERY != 0:\n",
    "    if (int(nEnd*n_pool/100) - NUM_INIT_LB)% NUM_QUERY != 0:\n",
    "        NUM_ROUND += 1\n",
    "print(NUM_INIT_LB,NUM_ROUND,NUM_QUERY)\n"
   ]
  },
  {
   "cell_type": "markdown",
   "metadata": {},
   "source": [
    "## ResNet 18 /50"
   ]
  },
  {
   "cell_type": "code",
   "execution_count": null,
   "metadata": {},
   "outputs": [],
   "source": [
    "model=models.__dict__[\"ResNet50\"](n_class=args_pool['mnist']['n_class'])"
   ]
  },
  {
   "cell_type": "code",
   "execution_count": null,
   "metadata": {},
   "outputs": [],
   "source": [
    "model.feature_extractor.conv1=torch.nn.Conv2d(args_pool['mnist']['channels'],16,kernel_size=3,stride=1,padding=1,bias=False)\n",
    "model.discriminator.dis_fc2=torch.nn.Linear(in_features=50,out_features=args_pool['mnist']['n_class'],bias=True)"
   ]
  },
  {
   "cell_type": "code",
   "execution_count": null,
   "metadata": {},
   "outputs": [],
   "source": [
    "model"
   ]
  },
  {
   "cell_type": "markdown",
   "metadata": {},
   "source": [
    "## MobileNet"
   ]
  },
  {
   "cell_type": "code",
   "execution_count": null,
   "metadata": {},
   "outputs": [],
   "source": [
    "model=models.__dict__[\"MobileNet\"]()"
   ]
  },
  {
   "cell_type": "code",
   "execution_count": null,
   "metadata": {},
   "outputs": [],
   "source": [
    "model"
   ]
  },
  {
   "cell_type": "code",
   "execution_count": null,
   "metadata": {},
   "outputs": [],
   "source": [
    "model.conv1=torch.nn.Conv2d(args_pool['mnist']['channels'],32,kernel_size=3,stride=1,padding=1,bias=False)\n",
    "model.linear=torch.nn.Linear(in_features=1024, out_features=args_pool['mnist']['n_class'], bias=True)"
   ]
  },
  {
   "cell_type": "code",
   "execution_count": null,
   "metadata": {},
   "outputs": [],
   "source": [
    "model"
   ]
  },
  {
   "cell_type": "markdown",
   "metadata": {},
   "source": [
    "## vgg"
   ]
  },
  {
   "cell_type": "code",
   "execution_count": null,
   "metadata": {},
   "outputs": [],
   "source": [
    "model=models.__dict__[\"VGG\"](vgg_name='VGG16')"
   ]
  },
  {
   "cell_type": "code",
   "execution_count": null,
   "metadata": {},
   "outputs": [],
   "source": [
    "model"
   ]
  },
  {
   "cell_type": "code",
   "execution_count": null,
   "metadata": {},
   "outputs": [],
   "source": [
    "model.features[0]=torch.nn.Conv2d(args_pool['mnist']['channels'],64,kernel_size=3,stride=1,padding=1,bias=False)\n",
    "model.classifier=torch.nn.Linear(in_features=512, out_features=args_pool['mnist']['n_class'], bias=True)"
   ]
  },
  {
   "cell_type": "code",
   "execution_count": null,
   "metadata": {},
   "outputs": [],
   "source": [
    "model"
   ]
  },
  {
   "cell_type": "code",
   "execution_count": null,
   "metadata": {},
   "outputs": [],
   "source": [
    "\n",
    "# model=Model('resnet50').get_model()\n",
    "# model\n"
   ]
  },
  {
   "cell_type": "code",
   "execution_count": null,
   "metadata": {},
   "outputs": [],
   "source": [
    "model.conv1 = torch.nn.Conv2d(args_pool['mnist']['channels'], 64, kernel_size=7, stride=2, padding=3, bias=False)  # Conversion en 3 canaux\n",
    "model.fc = torch.nn.Linear(2048, args_pool['mnist']['n_class'])  # Modifier la couche de classification pour 10 classes\n",
    "model"
   ]
  },
  {
   "cell_type": "code",
   "execution_count": null,
   "metadata": {},
   "outputs": [],
   "source": [
    "# in the main file\n",
    "idxs_lb = np.zeros(n_pool, dtype=bool)\n",
    "idxs_lb\n",
    "# in the main file \n",
    "idxs_tmp = np.arange(n_pool)\n",
    "idxs_tmp\n",
    "np.random.shuffle(idxs_tmp)\n",
    "idxs_tmp\n",
    "# in the main file\n",
    "idxs_lb[idxs_tmp[:NUM_INIT_LB]] = True\n",
    "idxs_lb"
   ]
  },
  {
   "cell_type": "code",
   "execution_count": null,
   "metadata": {},
   "outputs": [],
   "source": [
    "class Args:\n",
    "    def __init__(self,n_class,img_size,channels,transform_tr,transform_te,loader_tr_args,loader_te_args,normalize):\n",
    "        self.n_class=n_class\n",
    "        self.img_size=img_size\n",
    "        self.channels=channels\n",
    "        self.transform_tr=transform_tr\n",
    "        self.transform_te=transform_te\n",
    "        self.loader_tr_args=loader_tr_args\n",
    "        self.loader_te_args=loader_te_args\n",
    "        self.normalize=normalize\n",
    "        self.dataset='mnist'\n",
    "        self.save_path='./save'\n",
    "        self.model='ResNet50'\n",
    "        self.lr=0.1\n",
    "        self.schedule = [20, 40]\n",
    "        self.momentum=0.9\n",
    "        self.gammas=[0.1,0.1]\n",
    "        self.framework='framwork1'\n",
    "        self.optimizer='SGD'\n",
    "        self.save_model=False\n",
    "        self.ALstrat='LeastConfidence'\n",
    "        self.SSLstrat='fixmatch'"
   ]
  },
  {
   "cell_type": "code",
   "execution_count": null,
   "metadata": {},
   "outputs": [],
   "source": [
    "dataset_args = args_pool[\"mnist\"]\n",
    "n_class = dataset_args['n_class']\n",
    "img_size = dataset_args['size']\n",
    "channels = dataset_args['channels']\n",
    "transform_tr = dataset_args['transform_tr']\n",
    "transform_te = dataset_args['transform_te']\n",
    "loader_tr_args = dataset_args['loader_tr_args']\n",
    "loader_te_args = dataset_args['loader_te_args']\n",
    "normalize = dataset_args['normalize']"
   ]
  },
  {
   "cell_type": "code",
   "execution_count": null,
   "metadata": {},
   "outputs": [],
   "source": [
    "args=Args(n_class,img_size,channels,transform_tr,transform_te,loader_tr_args,loader_te_args,normalize)"
   ]
  },
  {
   "cell_type": "code",
   "execution_count": null,
   "metadata": {},
   "outputs": [],
   "source": [
    "framework_1= Framework1(X_tr, Y_tr, X_te, Y_te, idxs_lb, model, handler, args)"
   ]
  },
  {
   "cell_type": "code",
   "execution_count": null,
   "metadata": {},
   "outputs": [],
   "source": [
    "print(f' Sratgey for active learning{args.ALstrat} and strategy for semi-supervised learning used {args.SSLstrat}')\n",
    "stratAl=LeastConfidence(framework_1.X_tr, framework_1.Y_tr, framework_1.X_te, framework_1.Y_te, framework_1.idxs_lb, framework_1.net, framework_1.handler, framework_1.args,framework_1.n_pool,framework_1.device)\n",
    "stratSSL=fixmatch(framework_1.X_tr, framework_1.Y_tr, framework_1.X_te, framework_1.Y_te, framework_1.idxs_lb, framework_1.net, framework_1.handler, framework_1.args,framework_1.n_pool,framework_1.device,framework_1.predict,framework_1.g)\n",
    "\n",
    "\n",
    "framework_1.train(alpha=2e-3,n_epoch=10)\n",
    "\n",
    "test_acc=framework_1.predict(framework_1.X_te,framework_1.Y_te)\n",
    "acc = np.zeros(NUM_ROUND+1)\n",
    "acc[0] = test_acc\n",
    "\n",
    "for rd in range(0, NUM_ROUND):\n",
    "    \n",
    "    if rd%2==0:\n",
    "        # Al_methods\n",
    "        print('Round {}/{}'.format(rd, NUM_ROUND), flush=True)\n",
    "        labeled = len(np.arange(framework_1.n_pool)[framework_1.idxs_lb])\n",
    "        if NUM_QUERY > int(nEnd*framework_1.n_pool/100) - labeled:\n",
    "            NUM_QUERY = int(nEnd*framework_1.n_pool/100) - labeled\n",
    "            \n",
    "        # query\n",
    "        ts = time.time()\n",
    "        output = stratAl.query(NUM_QUERY)\n",
    "        q_idxs = output\n",
    "        framework_1.idxs_lb[q_idxs] = True\n",
    "        te = time.time()\n",
    "        tp = te - ts\n",
    "        \n",
    "        # update\n",
    "        framework_1.update(framework_1.idxs_lb)\n",
    "        if hasattr(stratAl, 'train'):\n",
    "        \n",
    "            best_test_acc=stratAl.train(alpha=2e-3, n_epoch=10)\n",
    "        else: best_test_acc = framework_1.train(alpha=2e-3, n_epoch=10)\n",
    "\n",
    "        t_iter = time.time() - ts\n",
    "        \n",
    "        # round accuracy\n",
    "        # test_acc = strategy.predict(X_te, Y_te)\n",
    "        acc[rd] = best_test_acc\n",
    "    else:\n",
    "        #SSL methods\n",
    "        \n",
    "        print('Round {}/{}'.format(rd, NUM_ROUND), flush=True)\n",
    "        labeled = len(np.arange(framework_1.n_pool)[framework_1.idxs_lb])\n",
    "        if NUM_QUERY > int(nEnd*framework_1.n_pool/100) - labeled:\n",
    "            NUM_QUERY = int(nEnd*framework_1.n_pool/100) - labeled\n",
    "            \n",
    "        # query\n",
    "        ts = time.time()\n",
    "\n",
    "        output = stratSSL.query(NUM_QUERY)\n",
    "        q_idxs = output\n",
    "        framework_1.idxs_lb[q_idxs] = True\n",
    "        te = time.time()\n",
    "        tp = te - ts\n",
    "        \n",
    "        # update\n",
    "        framework_1.update(framework_1.idxs_lb)\n",
    "        best_test_acc = stratSSL.train(alpha=2e-3, n_epoch=10)\n",
    "\n",
    "        t_iter = time.time() - ts\n",
    "        \n",
    "        # round accuracy\n",
    "        # test_acc = strategy.predict(X_te, Y_te)\n",
    "        acc[rd] = best_test_acc\n",
    "\n"
   ]
  },
  {
   "cell_type": "code",
   "execution_count": null,
   "metadata": {},
   "outputs": [],
   "source": [
    "acc"
   ]
  },
  {
   "cell_type": "code",
   "execution_count": null,
   "metadata": {},
   "outputs": [],
   "source": [
    "folder_result_acc='results'\n",
    "# out_file = os.path.join(args.save_path, args.save_file)\n",
    "if not os.path.exists(folder_result_acc):\n",
    "    os.mkdir(folder_result_acc)\n",
    "    print(f\"Folder '{folder_result_acc}' created succesfuly.\")\n",
    "file_path=os.path.join(folder_result_acc,args.framework+\"(\"+args.ALstrat+args.SSLstrat+\")\")\n",
    "np.save(file_path,acc)"
   ]
  },
  {
   "cell_type": "code",
   "execution_count": null,
   "metadata": {},
   "outputs": [],
   "source": [
    "np.load(\"results/framwork1(LeastConfidencefixmatch).npy\")"
   ]
  },
  {
   "cell_type": "markdown",
   "metadata": {},
   "source": []
  }
 ],
 "metadata": {
  "kernelspec": {
   "display_name": "base",
   "language": "python",
   "name": "python3"
  },
  "language_info": {
   "codemirror_mode": {
    "name": "ipython",
    "version": 3
   },
   "file_extension": ".py",
   "mimetype": "text/x-python",
   "name": "python",
   "nbconvert_exporter": "python",
   "pygments_lexer": "ipython3",
   "version": "3.10.9"
  },
  "orig_nbformat": 4
 },
 "nbformat": 4,
 "nbformat_minor": 2
}
