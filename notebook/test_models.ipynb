{
 "cells": [
  {
   "cell_type": "code",
   "execution_count": null,
   "metadata": {},
   "outputs": [],
   "source": [
    "import sys; sys.path.insert(0, '..') "
   ]
  },
  {
   "cell_type": "code",
   "execution_count": null,
   "metadata": {},
   "outputs": [],
   "source": [
    "from models.get_model import Model"
   ]
  },
  {
   "cell_type": "code",
   "execution_count": null,
   "metadata": {},
   "outputs": [],
   "source": [
    "model1=Model(\"resnet50\")"
   ]
  },
  {
   "cell_type": "code",
   "execution_count": null,
   "metadata": {},
   "outputs": [],
   "source": [
    "model1=model1.get_model()"
   ]
  },
  {
   "cell_type": "code",
   "execution_count": null,
   "metadata": {},
   "outputs": [],
   "source": [
    "model1"
   ]
  },
  {
   "cell_type": "code",
   "execution_count": null,
   "metadata": {},
   "outputs": [],
   "source": [
    "from preprocess.load_split_data import LoadDataset"
   ]
  },
  {
   "cell_type": "code",
   "execution_count": 26,
   "metadata": {},
   "outputs": [],
   "source": [
    "# import ssl\n",
    "# ssl._create_default_https_context = ssl._create_unverified_context"
   ]
  },
  {
   "cell_type": "code",
   "execution_count": 27,
   "metadata": {},
   "outputs": [
    {
     "name": "stdout",
     "output_type": "stream",
     "text": [
      "Downloading https://madm.dfki.de/files/sentinel/EuroSAT.zip to ./datasets/eurosat/EuroSAT.zip\n"
     ]
    },
    {
     "name": "stderr",
     "output_type": "stream",
     "text": [
      "100%|██████████| 94280567/94280567 [00:02<00:00, 35139229.68it/s]\n"
     ]
    },
    {
     "name": "stdout",
     "output_type": "stream",
     "text": [
      "Extracting ./datasets/eurosat/EuroSAT.zip to ./datasets/eurosat\n"
     ]
    }
   ],
   "source": [
    "# Usage example:\n",
    "dataset_loader = LoadDataset(dataset_name=\"EuroSAT\")\n",
    "dataset = dataset_loader.load_dataset()"
   ]
  },
  {
   "cell_type": "code",
   "execution_count": 28,
   "metadata": {},
   "outputs": [],
   "source": [
    "data=dataset_loader.split_dataset(dataset)"
   ]
  },
  {
   "cell_type": "code",
   "execution_count": 29,
   "metadata": {},
   "outputs": [
    {
     "data": {
      "text/plain": [
       "(Dataset EuroSAT\n",
       "     Number of datapoints: 27000\n",
       "     Root location: ./datasets\n",
       "     StandardTransform\n",
       " Transform: ToTensor(),\n",
       " Dataset EuroSAT\n",
       "     Number of datapoints: 27000\n",
       "     Root location: ./datasets\n",
       "     StandardTransform\n",
       " Transform: ToTensor())"
      ]
     },
     "execution_count": 29,
     "metadata": {},
     "output_type": "execute_result"
    }
   ],
   "source": [
    "data"
   ]
  },
  {
   "cell_type": "code",
   "execution_count": 30,
   "metadata": {},
   "outputs": [],
   "source": [
    "def cropping_center(x, crop_shape, batch=False):\n",
    "    \"\"\"Crop an input image at the centre.\n",
    "\n",
    "    Args:\n",
    "        x: input array\n",
    "        crop_shape: dimensions of cropped array\n",
    "    \n",
    "    Returns:\n",
    "        x: cropped array\n",
    "    \n",
    "    \"\"\"\n",
    "    orig_shape = x.shape\n",
    "    if not batch:\n",
    "        h0 = int((orig_shape[0] - crop_shape[0]) * 0.5)\n",
    "        w0 = int((orig_shape[1] - crop_shape[1]) * 0.5)\n",
    "        x = x[h0 : h0 + crop_shape[0], w0 : w0 + crop_shape[1]]\n",
    "    else:\n",
    "        h0 = int((orig_shape[1] - crop_shape[0]) * 0.5)\n",
    "        w0 = int((orig_shape[2] - crop_shape[1]) * 0.5)\n",
    "        x = x[:, h0 : h0 + crop_shape[0], w0 : w0 + crop_shape[1]]\n",
    "    return x\n"
   ]
  },
  {
   "cell_type": "code",
   "execution_count": 31,
   "metadata": {},
   "outputs": [],
   "source": [
    "import math\n",
    "import time\n",
    "\n",
    "import cv2\n",
    "import matplotlib.pyplot as plt\n",
    "import numpy as np\n",
    "\n",
    "\n",
    "\n",
    "#####\n",
    "class PatchExtractor(object):\n",
    "    \"\"\"Extractor to generate patches with or without padding.\n",
    "    Turn on debug mode to see how it is done.\n",
    "\n",
    "    Args:\n",
    "        x         : input image, should be of shape HWC\n",
    "        win_size  : a tuple of (h, w)\n",
    "        step_size : a tuple of (h, w)\n",
    "        debug     : flag to see how it is done\n",
    "    Return:\n",
    "        a list of sub patches, each patch has dtype same as x\n",
    "\n",
    "    Examples:\n",
    "        >>> xtractor = PatchExtractor((450, 450), (120, 120))\n",
    "        >>> img = np.full([1200, 1200, 3], 255, np.uint8)\n",
    "        >>> patches = xtractor.extract(img, 'mirror')\n",
    "\n",
    "    \"\"\"\n",
    "\n",
    "    def __init__(self, win_size, step_size, debug=False):\n",
    "\n",
    "        self.patch_type = \"mirror\"\n",
    "        self.win_size = win_size\n",
    "        self.step_size = step_size\n",
    "        self.debug = debug\n",
    "        self.counter = 0\n",
    "\n",
    "    def __get_patch(self, x, ptx):\n",
    "        pty = (ptx[0] + self.win_size[0], ptx[1] + self.win_size[1])\n",
    "        win = x[ptx[0] : pty[0], ptx[1] : pty[1]]\n",
    "        assert (\n",
    "            win.shape[0] == self.win_size[0] and win.shape[1] == self.win_size[1]\n",
    "        ), \"[BUG] Incorrect Patch Size {0}\".format(win.shape)\n",
    "        if self.debug:\n",
    "            if self.patch_type == \"mirror\":\n",
    "                cen = cropping_center(win, self.step_size)\n",
    "                cen = cen[..., self.counter % 3]\n",
    "                cen.fill(150)\n",
    "\n",
    "            self.counter += 1\n",
    "        return win\n",
    "\n",
    "    def __extract_valid(self, x):\n",
    "        \"\"\"Extracted patches without padding, only work in case win_size > step_size.\n",
    "        \n",
    "        Note: to deal with the remaining portions which are at the boundary a.k.a\n",
    "        those which do not fit when slide left->right, top->bottom), we flip \n",
    "        the sliding direction then extract 1 patch starting from right / bottom edge. \n",
    "        There will be 1 additional patch extracted at the bottom-right corner.\n",
    "\n",
    "        Args:\n",
    "            x         : input image, should be of shape HWC\n",
    "            win_size  : a tuple of (h, w)\n",
    "            step_size : a tuple of (h, w)\n",
    "        Return:\n",
    "            a list of sub patches, each patch is same dtype as x\n",
    "\n",
    "        \"\"\"\n",
    "        im_h = x.shape[0]\n",
    "        im_w = x.shape[1]\n",
    "\n",
    "        def extract_infos(length, win_size, step_size):\n",
    "            flag = (length - win_size) % step_size != 0\n",
    "            last_step = math.floor((length - win_size) / step_size)\n",
    "            last_step = (last_step + 1) * step_size\n",
    "            return flag, last_step\n",
    "\n",
    "        h_flag, h_last = extract_infos(im_h, self.win_size[0], self.step_size[0])\n",
    "        w_flag, w_last = extract_infos(im_w, self.win_size[1], self.step_size[1])\n",
    "\n",
    "        sub_patches = []\n",
    "        #### Deal with valid block\n",
    "        for row in range(0, h_last, self.step_size[0]):\n",
    "            for col in range(0, w_last, self.step_size[1]):\n",
    "                win = self.__get_patch(x, (row, col))\n",
    "                sub_patches.append(win)\n",
    "        #### Deal with edge case\n",
    "        if h_flag:\n",
    "            row = im_h - self.win_size[0]\n",
    "            for col in range(0, w_last, self.step_size[1]):\n",
    "                win = self.__get_patch(x, (row, col))\n",
    "                sub_patches.append(win)\n",
    "        if w_flag:\n",
    "            col = im_w - self.win_size[1]\n",
    "            for row in range(0, h_last, self.step_size[0]):\n",
    "                win = self.__get_patch(x, (row, col))\n",
    "                sub_patches.append(win)\n",
    "        if h_flag and w_flag:\n",
    "            ptx = (im_h - self.win_size[0], im_w - self.win_size[1])\n",
    "            win = self.__get_patch(x, ptx)\n",
    "            sub_patches.append(win)\n",
    "        return sub_patches\n",
    "\n",
    "    def __extract_mirror(self, x):\n",
    "        \"\"\"Extracted patches with mirror padding the boundary such that the \n",
    "        central region of each patch is always within the orginal (non-padded)\n",
    "        image while all patches' central region cover the whole orginal image.\n",
    "\n",
    "        Args:\n",
    "            x         : input image, should be of shape HWC\n",
    "            win_size  : a tuple of (h, w)\n",
    "            step_size : a tuple of (h, w)\n",
    "        Return:\n",
    "            a list of sub patches, each patch is same dtype as x\n",
    "            \n",
    "        \"\"\"\n",
    "        diff_h = self.win_size[0] - self.step_size[0]\n",
    "        padt = diff_h // 2\n",
    "        padb = diff_h - padt\n",
    "\n",
    "        diff_w = self.win_size[1] - self.step_size[1]\n",
    "        padl = diff_w // 2\n",
    "        padr = diff_w - padl\n",
    "\n",
    "        pad_type = \"constant\" if self.debug else \"reflect\"\n",
    "        x = np.lib.pad(x, ((padt, padb), (padl, padr), (0, 0)), pad_type)\n",
    "        sub_patches = self.__extract_valid(x)\n",
    "        return sub_patches\n",
    "\n",
    "    def extract(self, x, patch_type):\n",
    "        patch_type = patch_type.lower()\n",
    "        self.patch_type = patch_type\n",
    "        if patch_type == \"valid\":\n",
    "            return self.__extract_valid(x)\n",
    "        elif patch_type == \"mirror\":\n",
    "            return self.__extract_mirror(x)\n",
    "        else:\n",
    "            assert False, \"Unknown Patch Type [%s]\" % patch_type\n",
    "        return\n",
    "\n",
    "\n",
    "# ----------------------------------------------------------------------------\n",
    "\n",
    "# if __name__ == \"__main__\":\n",
    "#     # toy example for debug\n",
    "#     # 355x355, 480x480\n",
    "#     xtractor = PatchExtractor((450, 450), (120, 120), debug=False)\n",
    "#     a = np.full([1200, 1200, 3], 255, np.uint8)\n",
    "#     b=xtractor.extract(a, \"mirror\")\n",
    "#     xtractor.extract(a, \"valid\")\n",
    "#     plt.figure(figsize=(16,16))\n",
    "#     plt.imshow(b[1])"
   ]
  },
  {
   "cell_type": "code",
   "execution_count": 32,
   "metadata": {},
   "outputs": [
    {
     "name": "stderr",
     "output_type": "stream",
     "text": [
      "2023-08-01 10:41:57.870021: I tensorflow/core/platform/cpu_feature_guard.cc:182] This TensorFlow binary is optimized to use available CPU instructions in performance-critical operations.\n",
      "To enable the following instructions: AVX2 FMA, in other operations, rebuild TensorFlow with the appropriate compiler flags.\n",
      "2023-08-01 10:41:58.658192: W tensorflow/compiler/tf2tensorrt/utils/py_utils.cc:38] TF-TRT Warning: Could not find TensorRT\n"
     ]
    },
    {
     "data": {
      "image/png": "[encoded data removed]",
      "text/plain": [
       "<Figure size 800x800 with 9 Axes>"
      ]
     },
     "metadata": {},
     "output_type": "display_data"
    }
   ],
   "source": [
    "import numpy as np\n",
    "import matplotlib.pyplot as plt\n",
    "from sklearn.model_selection import train_test_split\n",
    "from keras.datasets import cifar10\n",
    "\n",
    "# Load the CIFAR-10 dataset\n",
    "(x_train, y_train), (x_test, y_test) = cifar10.load_data()\n",
    "\n",
    "# Let's take one sample image for the example\n",
    "sample_image = x_train[0]\n",
    "\n",
    "# Define the patch size and step size for extraction\n",
    "patch_size = (16, 16)\n",
    "step_size = (8, 8)\n",
    "\n",
    "# Create a PatchExtractor instance\n",
    "xtractor = PatchExtractor(patch_size, step_size)\n",
    "\n",
    "# Extract patches from the sample image using mirror padding\n",
    "patches = xtractor.extract(sample_image, \"mirror\")\n",
    "\n",
    "# Display the original image and the extracted patches\n",
    "plt.figure(figsize=(8, 8))\n",
    "plt.subplot(3, 3, 1)\n",
    "plt.title(\"Original Image\")\n",
    "plt.imshow(sample_image)\n",
    "\n",
    "for i, patch in enumerate(patches[:8]):\n",
    "    plt.subplot(3, 3, i + 2)\n",
    "    plt.title(f\"Patch {i+1}\")\n",
    "    plt.imshow(patch)\n",
    "\n",
    "plt.show()\n"
   ]
  }
 ],
 "metadata": {
  "kernelspec": {
   "display_name": "base",
   "language": "python",
   "name": "python3"
  },
  "language_info": {
   "codemirror_mode": {
    "name": "ipython",
    "version": 3
   },
   "file_extension": ".py",
   "mimetype": "text/x-python",
   "name": "python",
   "nbconvert_exporter": "python",
   "pygments_lexer": "ipython3",
   "version": "3.10.9"
  },
  "orig_nbformat": 4
 },
 "nbformat": 4,
 "nbformat_minor": 2
}
